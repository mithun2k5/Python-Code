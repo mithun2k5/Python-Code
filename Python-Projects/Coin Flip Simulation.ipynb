{
 "cells": [
  {
   "cell_type": "code",
   "execution_count": 9,
   "metadata": {
    "collapsed": true
   },
   "outputs": [],
   "source": [
    "#Coin Flip Simulation:\n",
    "import random\n",
    "def coin_flip():\n",
    "    head = 0\n",
    "    tail = 0\n",
    "    turn = int(raw_input(\"How many times want to flip the coin:: \"))\n",
    "    for i in range(1,turn+1):\n",
    "        if random.randint(0,1) == 0:\n",
    "            head = head + 1\n",
    "        else:\n",
    "            tail = tail + 1\n",
    "    print \"\\n\"\n",
    "    print \"Number of head:: \",head\n",
    "    print \"Number of tail:: \",tail"
   ]
  },
  {
   "cell_type": "code",
   "execution_count": 10,
   "metadata": {
    "collapsed": false
   },
   "outputs": [
    {
     "name": "stdout",
     "output_type": "stream",
     "text": [
      "How many times want to flip the coin:: 10\n",
      "\n",
      "\n",
      "Number of head::  4\n",
      "Number of tail::  6\n"
     ]
    }
   ],
   "source": [
    "coin_flip()"
   ]
  },
  {
   "cell_type": "code",
   "execution_count": null,
   "metadata": {
    "collapsed": true
   },
   "outputs": [],
   "source": []
  }
 ],
 "metadata": {
  "kernelspec": {
   "display_name": "Python 2",
   "language": "python",
   "name": "python2"
  },
  "language_info": {
   "codemirror_mode": {
    "name": "ipython",
    "version": 2
   },
   "file_extension": ".py",
   "mimetype": "text/x-python",
   "name": "python",
   "nbconvert_exporter": "python",
   "pygments_lexer": "ipython2",
   "version": "2.7.11"
  }
 },
 "nbformat": 4,
 "nbformat_minor": 0
}
