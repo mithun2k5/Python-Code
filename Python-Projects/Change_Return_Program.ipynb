{
 "cells": [
  {
   "cell_type": "code",
   "execution_count": 67,
   "metadata": {
    "collapsed": false
   },
   "outputs": [],
   "source": [
    "def change_return_program():\n",
    "    cost = round(float(raw_input(\"Enter your cost(in dollar):: \")),2)\n",
    "    money = round(float(raw_input(\"Enter your money(in dollar):: \")),2)\n",
    "    \n",
    "    return_amount = money - cost\n",
    "    return_amount1 = return_amount\n",
    "    penny = .01\n",
    "    nickel = .05\n",
    "    dime = .1\n",
    "    quarter = 0.25\n",
    "    dollar = 1.0\n",
    "    dollar_number = 0\n",
    "    quarter_number = 0\n",
    "    dime_number = 0\n",
    "    nickel_number = 0\n",
    "    penny_number = 0\n",
    "    if (return_amount >= dollar):\n",
    "        dollar_number = int(return_amount)/1\n",
    "        return_amount = return_amount%1\n",
    "    if (return_amount >= 0.25):       \n",
    "        quarter_number = int(return_amount/0.25)\n",
    "        return_amount = round(return_amount - (0.25*quarter_number),2)\n",
    "    if (return_amount >= 0.10 ):\n",
    "        dime_number = int(return_amount/0.1)\n",
    "        return_amount = round(return_amount - (0.1*dime_number),2)\n",
    "    if (return_amount >= 0.05):\n",
    "        nickel_number = int(return_amount/0.05)\n",
    "        return_amount = round(return_amount - (0.05*nickel_number),2)\n",
    "    if (return_amount >= 0.01):\n",
    "        penny_number = int(return_amount/0.01)\n",
    "       \n",
    "    print \"\\n\"\n",
    "    print \"Change Return Amount:: \" + str(return_amount1) + \" dollar\"\n",
    "    print \"Number of Dollar:: \",dollar_number\n",
    "    print \"Number of Quarter:: \",quarter_number\n",
    "    print \"Number of Dime:: \",dime_number\n",
    "    print \"Number of Nickel:: \",nickel_number\n",
    "    print \"Number of Penny:: \",penny_number"
   ]
  },
  {
   "cell_type": "code",
   "execution_count": 68,
   "metadata": {
    "collapsed": false
   },
   "outputs": [
    {
     "name": "stdout",
     "output_type": "stream",
     "text": [
      "Enter your cost(in dollar):: 2.49\n",
      "Enter your money(in dollar):: 3\n",
      "\n",
      "\n",
      "Change Return Amount:: 0.51 dollar\n",
      "Number of Dollar::  0\n",
      "Number of Quarter::  2\n",
      "Number of Dime::  0\n",
      "Number of Nickel::  0\n",
      "Number of Penny::  1\n"
     ]
    }
   ],
   "source": [
    "change_return_program()"
   ]
  },
  {
   "cell_type": "code",
   "execution_count": null,
   "metadata": {
    "collapsed": true
   },
   "outputs": [],
   "source": []
  }
 ],
 "metadata": {
  "kernelspec": {
   "display_name": "Python 2",
   "language": "python",
   "name": "python2"
  },
  "language_info": {
   "codemirror_mode": {
    "name": "ipython",
    "version": 2
   },
   "file_extension": ".py",
   "mimetype": "text/x-python",
   "name": "python",
   "nbconvert_exporter": "python",
   "pygments_lexer": "ipython2",
   "version": "2.7.11"
  }
 },
 "nbformat": 4,
 "nbformat_minor": 0
}
