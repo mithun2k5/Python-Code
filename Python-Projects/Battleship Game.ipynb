{
 "cells": [
  {
   "cell_type": "code",
   "execution_count": 2,
   "metadata": {
    "collapsed": true
   },
   "outputs": [],
   "source": [
    "#This program will create battleship game (board size 5X5,One player)."
   ]
  },
  {
   "cell_type": "code",
   "execution_count": 64,
   "metadata": {
    "collapsed": false
   },
   "outputs": [
    {
     "name": "stdout",
     "output_type": "stream",
     "text": [
      "Row Input: 1\n",
      "Column Input: 1\n",
      "You missed your target\n",
      "Choice Left:  4\n",
      "O O O O O\n",
      "O X O O O\n",
      "O O O O O\n",
      "O O O O O\n",
      "O O O O O\n",
      "Row Input: 2\n",
      "Column Input: 2\n",
      "You missed your target\n",
      "Choice Left:  3\n",
      "O O O O O\n",
      "O X O O O\n",
      "O O X O O\n",
      "O O O O O\n",
      "O O O O O\n",
      "Row Input: 3\n",
      "Column Input: 3\n",
      "You missed your target\n",
      "Choice Left:  2\n",
      "O O O O O\n",
      "O X O O O\n",
      "O O X O O\n",
      "O O O X O\n",
      "O O O O O\n",
      "Row Input: 4\n",
      "Column Input: 4\n",
      "You missed your target\n",
      "Choice Left:  1\n",
      "O O O O O\n",
      "O X O O O\n",
      "O O X O O\n",
      "O O O X O\n",
      "O O O O X\n",
      "Row Input: 5\n",
      "Column Input: 5\n",
      "Wrong choice of co-ordinate !!\n",
      "You missed your target\n",
      "Choice Left:  0\n",
      "You lose!!\n",
      "Game Over!!\n",
      "O O O O O\n",
      "O X O O O\n",
      "O O X O O\n",
      "O O O X O\n",
      "O O O O X\n"
     ]
    }
   ],
   "source": [
    "#Creating Empty 5X5 board\n",
    "board = []\n",
    "\n",
    "for i in range(5):\n",
    "    board.append(['O']*5)\n",
    "\n",
    "#Print Board \n",
    "def board_condition(board):\n",
    "    for i in board:\n",
    "        print \" \".join(i)\n",
    "\n",
    "#Random selection of ship position in the board:\n",
    "import random\n",
    "row_random_choice = random.randint(0,4)\n",
    "column_random_choice = random.randint(0,4)\n",
    "#print row_random_choice\n",
    "#print column_random_choice\n",
    "\n",
    "#5 choice condition:\n",
    "for choice in range(5):\n",
    "\n",
    "#Player choice of co-ordinate:\n",
    "    row_choice = int(raw_input(\"Row Input: \"))\n",
    "    column_choice = int(raw_input(\"Column Input: \"))\n",
    "\n",
    "#Game Condition\n",
    "    if (row_choice == row_random_choice and column_choice == column_random_choice):\n",
    "        print \"Player Won!!\"\n",
    "        print \"Choice Left: \",(5-(choice+1))\n",
    "        break\n",
    "    else:\n",
    "        if (row_choice > 4 or row_choice <0 or column_choice > 4 or column_choice < 0):\n",
    "            print \"Wrong choice of co-ordinate !!\"\n",
    "        elif (board[row_choice][column_choice] == \"X\"):\n",
    "            print \"Already guessed!!\"\n",
    "        else:\n",
    "            board[row_choice][column_choice] = \"X\"\n",
    "        print \"You missed your target\"\n",
    "        print \"Choice Left: \",(5-(choice+1))\n",
    "        if choice == 4:\n",
    "            print \"You lose!!\"\n",
    "            print \"Game Over!!\"\n",
    "        board_condition(board)\n",
    "        "
   ]
  }
 ],
 "metadata": {
  "kernelspec": {
   "display_name": "Python 2",
   "language": "python",
   "name": "python2"
  },
  "language_info": {
   "codemirror_mode": {
    "name": "ipython",
    "version": 2
   },
   "file_extension": ".py",
   "mimetype": "text/x-python",
   "name": "python",
   "nbconvert_exporter": "python",
   "pygments_lexer": "ipython2",
   "version": "2.7.11"
  }
 },
 "nbformat": 4,
 "nbformat_minor": 0
}
