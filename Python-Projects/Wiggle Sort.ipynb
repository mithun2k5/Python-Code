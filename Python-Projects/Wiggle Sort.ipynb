{
 "cells": [
  {
   "cell_type": "code",
   "execution_count": 1,
   "metadata": {
    "collapsed": false
   },
   "outputs": [
    {
     "data": {
      "text/plain": [
       "[3, 5, 1, 6, 2, 4]"
      ]
     },
     "execution_count": 1,
     "metadata": {},
     "output_type": "execute_result"
    }
   ],
   "source": [
    "#Wiggle Sort\n",
    "\n",
    "lst = [3,5,2,1,6,4]\n",
    "#one possible output = [1,6,2,5,3,4]\n",
    "\n",
    "for i in range(len(lst)-1):\n",
    "    if i%2 == 0:\n",
    "        if lst[i] > lst[i+1]:\n",
    "            temp = lst[i]\n",
    "            lst[i] = lst[i+1]\n",
    "            lst[i+1] = temp\n",
    "    else:\n",
    "        if lst[i+1] > lst[i]:\n",
    "            temp = lst[i+1]\n",
    "            lst[i+1] = lst[i]\n",
    "            lst[i] = temp\n",
    "lst"
   ]
  },
  {
   "cell_type": "code",
   "execution_count": null,
   "metadata": {
    "collapsed": true
   },
   "outputs": [],
   "source": []
  }
 ],
 "metadata": {
  "kernelspec": {
   "display_name": "Python 2",
   "language": "python",
   "name": "python2"
  },
  "language_info": {
   "codemirror_mode": {
    "name": "ipython",
    "version": 2
   },
   "file_extension": ".py",
   "mimetype": "text/x-python",
   "name": "python",
   "nbconvert_exporter": "python",
   "pygments_lexer": "ipython2",
   "version": "2.7.11"
  }
 },
 "nbformat": 4,
 "nbformat_minor": 0
}
