{
 "cells": [
  {
   "cell_type": "code",
   "execution_count": 1,
   "metadata": {
    "collapsed": true
   },
   "outputs": [],
   "source": [
    "#Number of 1 bits in a number:\n",
    "def one_bit_count(num):\n",
    "    lst = []\n",
    "    while (num/2 != 0):\n",
    "        a = num % 2\n",
    "        lst.append(a)\n",
    "        num = num/2\n",
    "    if num == 0 or num == 1:\n",
    "        lst.append(num)\n",
    "    lst = lst[::-1]\n",
    "    \n",
    "    count = 0\n",
    "    for i in range(len(lst)):\n",
    "        if lst[i] == 1:\n",
    "            count = count + 1\n",
    "    return count"
   ]
  },
  {
   "cell_type": "code",
   "execution_count": 2,
   "metadata": {
    "collapsed": false
   },
   "outputs": [
    {
     "data": {
      "text/plain": [
       "2"
      ]
     },
     "execution_count": 2,
     "metadata": {},
     "output_type": "execute_result"
    }
   ],
   "source": [
    "one_bit_count(5)"
   ]
  },
  {
   "cell_type": "code",
   "execution_count": 3,
   "metadata": {
    "collapsed": true
   },
   "outputs": [],
   "source": [
    "def one_bit_count_extended(num):\n",
    "    new_list = []\n",
    "    for number in range(1,num + 1):\n",
    "        lst = []\n",
    "        while (number/2 != 0):\n",
    "            a = number % 2\n",
    "            lst.append(a)\n",
    "            number = number/2\n",
    "        if number == 0 or number == 1:\n",
    "            lst.append(number)\n",
    "        lst = lst[::-1]\n",
    "        count = 0\n",
    "        for i in range(len(lst)):\n",
    "            if lst[i] == 1:\n",
    "                count = count + 1\n",
    "        new_list.append(count)\n",
    "    return new_list"
   ]
  },
  {
   "cell_type": "code",
   "execution_count": 4,
   "metadata": {
    "collapsed": false
   },
   "outputs": [
    {
     "data": {
      "text/plain": [
       "[1, 1, 2, 1, 2]"
      ]
     },
     "execution_count": 4,
     "metadata": {},
     "output_type": "execute_result"
    }
   ],
   "source": [
    "one_bit_count_extended(5)"
   ]
  },
  {
   "cell_type": "code",
   "execution_count": null,
   "metadata": {
    "collapsed": true
   },
   "outputs": [],
   "source": []
  }
 ],
 "metadata": {
  "kernelspec": {
   "display_name": "Python 2",
   "language": "python",
   "name": "python2"
  },
  "language_info": {
   "codemirror_mode": {
    "name": "ipython",
    "version": 2
   },
   "file_extension": ".py",
   "mimetype": "text/x-python",
   "name": "python",
   "nbconvert_exporter": "python",
   "pygments_lexer": "ipython2",
   "version": "2.7.11"
  }
 },
 "nbformat": 4,
 "nbformat_minor": 0
}
