{
 "cells": [
  {
   "cell_type": "code",
   "execution_count": 1,
   "metadata": {
    "collapsed": true
   },
   "outputs": [],
   "source": [
    "#Ceasar Cipher,both encoding and decoding,for key value 1 to 25:"
   ]
  },
  {
   "cell_type": "code",
   "execution_count": 11,
   "metadata": {
    "collapsed": false
   },
   "outputs": [],
   "source": [
    "def ceasar_cipher():\n",
    "    encryption=''\n",
    "    decryption=''\n",
    "    while not (encryption.lower()=='yes' or encryption.lower()=='no'):\n",
    "        encryption = raw_input(\"Want to do encryption on text?(Yes or No): \")\n",
    "    if (encryption.lower()==\"yes\"):\n",
    "        text = raw_input('Enter text for encryption ')\n",
    "        key = raw_input('Give key value(1-25): ')\n",
    "        if int(key)<=25 and int(key)>=0:\n",
    "            length = len(text)\n",
    "            i=0\n",
    "            lst=''\n",
    "            while (i<length):\n",
    "                encrypted_value = ord(text[i])+int(key)\n",
    "                if (encrypted_value >122):\n",
    "                    encrypted_value = 96 + int(key)\n",
    "                    lst = lst + chr(encrypted_value)\n",
    "                else:\n",
    "                    lst = lst + chr(encrypted_value)\n",
    "                i=i+1\n",
    "        else:\n",
    "            return 'Invalid Key'\n",
    "    else:\n",
    "        while not (decryption.lower()=='yes' or decryption.lower()=='no'):\n",
    "            decryption = raw_input(\"Want to do decryption on text?(Yes or No): \")\n",
    "        if (decryption.lower()=='no'):\n",
    "            message = \"End of Program\"\n",
    "            return message\n",
    "        else:   \n",
    "            text = raw_input('Enter text for decryption ')\n",
    "            key = raw_input('Give key value(1-25): ')       \n",
    "            if int(key)<=25 and int(key)>=0:\n",
    "                length = len(text)\n",
    "                i=0\n",
    "                lst=''\n",
    "                while (i<length):\n",
    "                    decrypted_value = ord(text[i])-int(key)\n",
    "                    if (decrypted_value < 97):\n",
    "                        decrypted_value = 123 - int(key)\n",
    "                        lst = lst + chr(decrypted_value)\n",
    "                    else:\n",
    "                        lst =lst + chr(decrypted_value)\n",
    "                    i=i+1\n",
    "            else:\n",
    "                return 'Invalid Key'\n",
    "    print lst"
   ]
  },
  {
   "cell_type": "code",
   "execution_count": 12,
   "metadata": {
    "collapsed": false
   },
   "outputs": [
    {
     "name": "stdout",
     "output_type": "stream",
     "text": [
      "Want to do encryption on text?(Yes or No): no\n",
      "Want to do decryption on text?(Yes or No): yes\n",
      "Enter text for decryption njuivo\n",
      "Give key value(1-25): 1\n",
      "mithun\n"
     ]
    }
   ],
   "source": [
    "ceasar_cipher()"
   ]
  },
  {
   "cell_type": "code",
   "execution_count": null,
   "metadata": {
    "collapsed": false
   },
   "outputs": [],
   "source": []
  },
  {
   "cell_type": "code",
   "execution_count": null,
   "metadata": {
    "collapsed": true
   },
   "outputs": [],
   "source": []
  }
 ],
 "metadata": {
  "kernelspec": {
   "display_name": "Python 2",
   "language": "python",
   "name": "python2"
  },
  "language_info": {
   "codemirror_mode": {
    "name": "ipython",
    "version": 2
   },
   "file_extension": ".py",
   "mimetype": "text/x-python",
   "name": "python",
   "nbconvert_exporter": "python",
   "pygments_lexer": "ipython2",
   "version": "2.7.11"
  }
 },
 "nbformat": 4,
 "nbformat_minor": 0
}
