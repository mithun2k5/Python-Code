{
 "cells": [
  {
   "cell_type": "code",
   "execution_count": 80,
   "metadata": {
    "collapsed": false
   },
   "outputs": [],
   "source": [
    "def binary_converter():\n",
    "    decimal = int(raw_input(\"Give Decimal Input: \"))\n",
    "    value = ''\n",
    "    print \"\\nBinary value is:: \"\n",
    "    if decimal == 0:\n",
    "        return decimal\n",
    "    while (decimal > 0):\n",
    "        value = value + str(decimal % 2)\n",
    "        decimal = decimal/2\n",
    "    return int(value[::-1])\n",
    "            \n",
    "    "
   ]
  },
  {
   "cell_type": "code",
   "execution_count": 81,
   "metadata": {
    "collapsed": false
   },
   "outputs": [
    {
     "name": "stdout",
     "output_type": "stream",
     "text": [
      "Give Decimal Input: 2\n",
      "\n",
      "Binary value is:: \n"
     ]
    },
    {
     "data": {
      "text/plain": [
       "10"
      ]
     },
     "execution_count": 81,
     "metadata": {},
     "output_type": "execute_result"
    }
   ],
   "source": [
    "binary_converter()"
   ]
  },
  {
   "cell_type": "code",
   "execution_count": 92,
   "metadata": {
    "collapsed": false
   },
   "outputs": [],
   "source": [
    "def decimal_converter():\n",
    "    binary = raw_input(\"Give Binary Input: \")\n",
    "    print \"\\nDecimal value is:: \"\n",
    "    if len(binary) == 1:\n",
    "        return int(binary)\n",
    "    else:\n",
    "        value = ''\n",
    "        str_value = \" \".join(binary)\n",
    "        new_value = str_value.split()\n",
    "        length=len(new_value)\n",
    "        value=0\n",
    "        i=0\n",
    "        while (length>0):\n",
    "            value = value + (int(new_value[i])*pow(2,length-1))\n",
    "            i = i + 1\n",
    "            length = length -1\n",
    "    return value"
   ]
  },
  {
   "cell_type": "code",
   "execution_count": 93,
   "metadata": {
    "collapsed": false
   },
   "outputs": [
    {
     "name": "stdout",
     "output_type": "stream",
     "text": [
      "Give Binary Input: 1111\n",
      "\n",
      "Decimal value is:: \n"
     ]
    },
    {
     "data": {
      "text/plain": [
       "15"
      ]
     },
     "execution_count": 93,
     "metadata": {},
     "output_type": "execute_result"
    }
   ],
   "source": [
    "decimal_converter()"
   ]
  }
 ],
 "metadata": {
  "kernelspec": {
   "display_name": "Python 2",
   "language": "python",
   "name": "python2"
  },
  "language_info": {
   "codemirror_mode": {
    "name": "ipython",
    "version": 2
   },
   "file_extension": ".py",
   "mimetype": "text/x-python",
   "name": "python",
   "nbconvert_exporter": "python",
   "pygments_lexer": "ipython2",
   "version": "2.7.11"
  }
 },
 "nbformat": 4,
 "nbformat_minor": 0
}
