{
 "cells": [
  {
   "cell_type": "code",
   "execution_count": 20,
   "metadata": {
    "collapsed": false
   },
   "outputs": [],
   "source": [
    "lst = [ [ \"John\", \"john@gmail.com\", \"john@fb.com\"], \n",
    "[ \"Dan\", \"dan@gmail.com\", \"+1234567\"], \n",
    "[ \"john123\", \"+5412312\", \"john123@skype.com\"], \n",
    "[ \"john1985\", \"+5412312\", \"john@fb.com\"] ] \n",
    "\n",
    "lst1 = []\n",
    "for i in range(len(lst)):\n",
    "    lst1.append(lst[i][0].lower())\n",
    "\n",
    "lst2 = []\n",
    "for i in range(len(lst1)):\n",
    "    name = ''.join(i for i in lst1[i] if not i.isdigit())\n",
    "    lst2.append(name)\n",
    "\n",
    "lst3 = list(set(lst2))\n",
    "lst4 = []\n",
    "\n",
    "for i in range(len(lst3)):\n",
    "    a= lst3[i]\n",
    "    lst5 = [i for (y,i) in zip(lst2,range(len(lst2))) if a == y]\n",
    "    lst4.append(lst5)\n",
    "\n"
   ]
  },
  {
   "cell_type": "code",
   "execution_count": 39,
   "metadata": {
    "collapsed": false
   },
   "outputs": [
    {
     "name": "stdout",
     "output_type": "stream",
     "text": [
      "john\n",
      "dan\n",
      "john\n",
      "john\n"
     ]
    }
   ],
   "source": [
    "for i in range(len(lst1)):\n",
    "    name = ''.join(i for i in lst1[i] if not i.isdigit())\n",
    "    print name"
   ]
  },
  {
   "cell_type": "code",
   "execution_count": 41,
   "metadata": {
    "collapsed": false
   },
   "outputs": [
    {
     "data": {
      "text/plain": [
       "['john', 'dan', 'john123', 'john1985']"
      ]
     },
     "execution_count": 41,
     "metadata": {},
     "output_type": "execute_result"
    }
   ],
   "source": [
    "lst1"
   ]
  },
  {
   "cell_type": "code",
   "execution_count": 37,
   "metadata": {
    "collapsed": false
   },
   "outputs": [],
   "source": [
    "str1 = 'john123'\n",
    "str2 = ''.join([i for i in str1 if not i.isdigit()])"
   ]
  },
  {
   "cell_type": "code",
   "execution_count": 38,
   "metadata": {
    "collapsed": false
   },
   "outputs": [
    {
     "data": {
      "text/plain": [
       "'john'"
      ]
     },
     "execution_count": 38,
     "metadata": {},
     "output_type": "execute_result"
    }
   ],
   "source": [
    "str2"
   ]
  },
  {
   "cell_type": "code",
   "execution_count": null,
   "metadata": {
    "collapsed": true
   },
   "outputs": [],
   "source": []
  }
 ],
 "metadata": {
  "kernelspec": {
   "display_name": "Python 2",
   "language": "python",
   "name": "python2"
  },
  "language_info": {
   "codemirror_mode": {
    "name": "ipython",
    "version": 2
   },
   "file_extension": ".py",
   "mimetype": "text/x-python",
   "name": "python",
   "nbconvert_exporter": "python",
   "pygments_lexer": "ipython2",
   "version": "2.7.11"
  }
 },
 "nbformat": 4,
 "nbformat_minor": 0
}
