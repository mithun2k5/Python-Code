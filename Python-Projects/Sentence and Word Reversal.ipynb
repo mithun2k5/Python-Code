{
 "cells": [
  {
   "cell_type": "code",
   "execution_count": 14,
   "metadata": {
    "collapsed": false
   },
   "outputs": [
    {
     "name": "stdout",
     "output_type": "stream",
     "text": [
      "Give string input:: mithun talukder\n",
      "\n",
      "\n",
      "Reversed string is:: redkulat nuhtim\n"
     ]
    }
   ],
   "source": [
    "#Sentence reversal\n",
    "#First Method::\n",
    "string = raw_input(\"Give string input:: \")\n",
    "reversed_string = string[::-1]\n",
    "print \"\\n\"\n",
    "print \"Reversed string is::\",reversed_string"
   ]
  },
  {
   "cell_type": "code",
   "execution_count": 16,
   "metadata": {
    "collapsed": false
   },
   "outputs": [
    {
     "name": "stdout",
     "output_type": "stream",
     "text": [
      "Give string input:: mithun talukder\n",
      "\n",
      "\n",
      "Reversed string is:: redkulat nuhtim\n"
     ]
    }
   ],
   "source": [
    "#Sentence reversal\n",
    "#Second Method:\n",
    "string = raw_input(\"Give string input:: \")\n",
    "reversed_string = \"\".join(reversed(string))\n",
    "print \"\\n\"\n",
    "print \"Reversed string is::\",reversed_string"
   ]
  },
  {
   "cell_type": "code",
   "execution_count": 19,
   "metadata": {
    "collapsed": false
   },
   "outputs": [
    {
     "name": "stdout",
     "output_type": "stream",
     "text": [
      "Give string input:: mithun talukder\n",
      "\n",
      "\n",
      "Reversed words is:: talukder mithun\n"
     ]
    }
   ],
   "source": [
    "#Word reversal\n",
    "#First Method:\n",
    "string = raw_input(\"Give string input:: \")\n",
    "reversed_word = \" \".join(reversed(string.split()))\n",
    "print \"\\n\"\n",
    "print \"Reversed words is::\",reversed_word"
   ]
  },
  {
   "cell_type": "code",
   "execution_count": 20,
   "metadata": {
    "collapsed": false
   },
   "outputs": [
    {
     "name": "stdout",
     "output_type": "stream",
     "text": [
      "Give string input:: mithun talukder\n",
      "\n",
      "\n",
      "Reversed words is:: talukder mithun\n"
     ]
    }
   ],
   "source": [
    "#Word reversal\n",
    "#Second Method:\n",
    "string = raw_input(\"Give string input:: \")\n",
    "reversed_word = \" \".join(string.split()[::-1])\n",
    "print \"\\n\"\n",
    "print \"Reversed words is::\",reversed_word"
   ]
  },
  {
   "cell_type": "code",
   "execution_count": null,
   "metadata": {
    "collapsed": true
   },
   "outputs": [],
   "source": []
  }
 ],
 "metadata": {
  "kernelspec": {
   "display_name": "Python 2",
   "language": "python",
   "name": "python2"
  },
  "language_info": {
   "codemirror_mode": {
    "name": "ipython",
    "version": 2
   },
   "file_extension": ".py",
   "mimetype": "text/x-python",
   "name": "python",
   "nbconvert_exporter": "python",
   "pygments_lexer": "ipython2",
   "version": "2.7.11"
  }
 },
 "nbformat": 4,
 "nbformat_minor": 0
}
