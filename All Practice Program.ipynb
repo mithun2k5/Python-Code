{
 "cells": [
  {
   "cell_type": "code",
   "execution_count": 1,
   "metadata": {},
   "outputs": [],
   "source": [
    "#1 Two Sum\n",
    "\n",
    "\n",
    "def two_sum(lst,target):\n",
    "    \n",
    "    repository = []\n",
    "    \n",
    "    seen = []\n",
    "    \n",
    "    for index,num in enumerate(lst):\n",
    "        \n",
    "        diff = target - num\n",
    "        \n",
    "        if diff in seen:\n",
    "            \n",
    "            repository.append((num,diff))\n",
    "        \n",
    "        else:\n",
    "            \n",
    "            seen.append(num)\n",
    "            \n",
    "    return repository"
   ]
  },
  {
   "cell_type": "code",
   "execution_count": 2,
   "metadata": {},
   "outputs": [
    {
     "data": {
      "text/plain": [
       "[(7, 2), (5, 4)]"
      ]
     },
     "execution_count": 2,
     "metadata": {},
     "output_type": "execute_result"
    }
   ],
   "source": [
    "two_sum([2,3,4,8,7,5],9)"
   ]
  },
  {
   "cell_type": "code",
   "execution_count": 1,
   "metadata": {},
   "outputs": [],
   "source": [
    "#2 Is anagram [Given]\n",
    "\n",
    "def is_anagram(value1,value2):\n",
    "    \n",
    "    value1 = value1.replace(\" \",\"\").lower()\n",
    "    value2 = value2.replace(\" \",\"\").lower()\n",
    "    \n",
    "    dict1 = {}\n",
    "    \n",
    "    \n",
    "    for letter in value1:\n",
    "        \n",
    "        if letter in dict1:\n",
    "            dict1[letter] += 1\n",
    "        \n",
    "        else:\n",
    "            dict1[letter] = 1\n",
    "            \n",
    "            \n",
    "    for letter in value2:\n",
    "        \n",
    "        if letter in dict1:\n",
    "            dict1[letter] -= 1\n",
    "            \n",
    "        else:\n",
    "            \n",
    "            dict1[letter] = 1\n",
    "            \n",
    "    for letter in dict1:\n",
    "        \n",
    "        if dict1[letter] != 0 :\n",
    "            return False\n",
    "        \n",
    "    return True\n",
    "    \n",
    "    \n",
    "    "
   ]
  },
  {
   "cell_type": "code",
   "execution_count": 2,
   "metadata": {},
   "outputs": [
    {
     "data": {
      "text/plain": [
       "True"
      ]
     },
     "execution_count": 2,
     "metadata": {},
     "output_type": "execute_result"
    }
   ],
   "source": [
    "is_anagram(\"rosee\",\"erose\")\n"
   ]
  },
  {
   "cell_type": "code",
   "execution_count": 13,
   "metadata": {},
   "outputs": [],
   "source": [
    "#3 Summation of stickss\n",
    "\n",
    "def connect_sticks(sticks):\n",
    "    \n",
    "    import heapq\n",
    "    \n",
    "    if len(sticks) < 2:\n",
    "        \n",
    "        return 0\n",
    "    \n",
    "    res = 0\n",
    "    \n",
    "    heapq.heapify(sticks)\n",
    "    \n",
    "    while len(sticks) > 1:\n",
    "        \n",
    "        s1 = heapq.heappop(sticks)\n",
    "        s2 = heapq.heappop(sticks)\n",
    "        \n",
    "        res = res + s1 + s2\n",
    "        \n",
    "        heapq.heappush(sticks,s1+s2)\n",
    "        \n",
    "    return res"
   ]
  },
  {
   "cell_type": "code",
   "execution_count": 15,
   "metadata": {},
   "outputs": [
    {
     "data": {
      "text/plain": [
       "15"
      ]
     },
     "execution_count": 15,
     "metadata": {},
     "output_type": "execute_result"
    }
   ],
   "source": [
    "connect_sticks([2,3,5])"
   ]
  },
  {
   "cell_type": "code",
   "execution_count": 7,
   "metadata": {},
   "outputs": [],
   "source": [
    "#4 TopK Frequent Word:\n",
    "\n",
    "def topKfrequent(lst,k):\n",
    "    import collections\n",
    "    count = collections.Counter(lst)\n",
    "    \n",
    "    sorted_count = sorted(count.items(),key= lambda x: (-x[1],x[0]))\n",
    "    \n",
    "    for item in sorted_count:\n",
    "        if item[1] == k:\n",
    "            print(item[0])\n",
    "    "
   ]
  },
  {
   "cell_type": "code",
   "execution_count": 8,
   "metadata": {},
   "outputs": [
    {
     "name": "stdout",
     "output_type": "stream",
     "text": [
      "world\n"
     ]
    }
   ],
   "source": [
    "topKfrequent([\"hello\", \"world\",\"world\",\"how\"],2)"
   ]
  },
  {
   "cell_type": "code",
   "execution_count": 4,
   "metadata": {},
   "outputs": [],
   "source": [
    "#5 Print odd numbers digit from 1000 to 3000 number: \n",
    "\n",
    "def sum_of_digits(num):\n",
    "    \n",
    "    if num < 10:\n",
    "        return num\n",
    "    else:\n",
    "        return num%10 + sum_of_digits(num//10)\n",
    "\n",
    "def main():\n",
    "    \n",
    "    lst = []\n",
    "    \n",
    "    for num in range(1000,3001):\n",
    "        \n",
    "        value = sum_of_digits(num)\n",
    "        if value % 2 != 0:\n",
    "            lst.append(num)\n",
    "    return lst\n",
    "\n"
   ]
  },
  {
   "cell_type": "code",
   "execution_count": 1,
   "metadata": {},
   "outputs": [],
   "source": [
    "#6 Most visited website\n",
    "\n",
    "def mostvisitedpattern(timestamp,username,website):\n",
    "    \n",
    "    from collections import defaultdict\n",
    "    \n",
    "    from itertools import combinations\n",
    "    \n",
    "    websiteinfo = []\n",
    "    \n",
    "    for time,user,web in zip(timestamp,username,website):\n",
    "        \n",
    "        websiteinfo.append((time,user,web))\n",
    "    \n",
    "    websiteinfo.sort(key = lambda x:x[0])\n",
    "    \n",
    "    #print(websiteinfo)\n",
    "    \n",
    "    websitevisit = defaultdict(list)\n",
    "    \n",
    "    for _,user,web in websiteinfo:\n",
    "        \n",
    "        websitevisit[user].append(web)\n",
    "        \n",
    "    #print(websitevisit)\n",
    "        \n",
    "    possibletuples = defaultdict(int)\n",
    "    \n",
    "    for user in websitevisit:\n",
    "        \n",
    "        webroutes = set(combinations(websitevisit[user],3))\n",
    "        \n",
    "        for webroute in webroutes:\n",
    "        \n",
    "            possibletuples[webroute] += 1\n",
    "        \n",
    "    \n",
    "    maximum, routes = max(possibletuples.values()), []\n",
    "    \n",
    "    for item, value in possibletuples.items():\n",
    "        \n",
    "        if value == maximum:\n",
    "            \n",
    "            routes.append(item)\n",
    "    \n",
    "    if len(routes) > 1:\n",
    "        \n",
    "        routes.sort()\n",
    "        \n",
    "    return routes[0]"
   ]
  },
  {
   "cell_type": "code",
   "execution_count": 2,
   "metadata": {},
   "outputs": [
    {
     "data": {
      "text/plain": [
       "('home', 'about', 'career')"
      ]
     },
     "execution_count": 2,
     "metadata": {},
     "output_type": "execute_result"
    }
   ],
   "source": [
    "username=[\"joe\",\"joe\",\"joe\",\"james\",\"james\",\"james\",\"james\",\"mary\",\"mary\",\"mary\"]\n",
    "timestamp=[1,2,3,4,5,6,7,8,9,10]\n",
    "website=[\"home\",\"about\",\"career\",\"home\",\"cart\",\"maps\",\"home\",\"home\",\"about\",\"career\"]\n",
    "mostvisitedpattern(timestamp, username,website)"
   ]
  },
  {
   "cell_type": "code",
   "execution_count": 34,
   "metadata": {},
   "outputs": [],
   "source": [
    "#7 prime factor\n",
    "\n",
    "def print_prime_factor(number):\n",
    "    \n",
    "    \n",
    "    factor = 2\n",
    "    \n",
    "    lst = []\n",
    "     \n",
    "    while factor <= number:\n",
    "        \n",
    "        if number % factor == 0:\n",
    "            \n",
    "            lst.append(factor)\n",
    "            number = number //factor\n",
    "        \n",
    "        else:\n",
    "            \n",
    "            factor = factor + 1\n",
    "            \n",
    "    return lst"
   ]
  },
  {
   "cell_type": "code",
   "execution_count": 35,
   "metadata": {},
   "outputs": [
    {
     "data": {
      "text/plain": [
       "[2, 2, 5, 5]"
      ]
     },
     "execution_count": 35,
     "metadata": {},
     "output_type": "execute_result"
    }
   ],
   "source": [
    "print_prime_factor(100)"
   ]
  },
  {
   "cell_type": "code",
   "execution_count": 36,
   "metadata": {},
   "outputs": [],
   "source": [
    "#8 power of two\n",
    "\n",
    "def is_power_of_two(num):\n",
    "    \n",
    "    while num%2 == 0 and num != 1:\n",
    "        \n",
    "        num = num/2\n",
    "    \n",
    "    if num == 1:\n",
    "        return True\n",
    "    \n",
    "    else:\n",
    "        return False"
   ]
  },
  {
   "cell_type": "code",
   "execution_count": 38,
   "metadata": {},
   "outputs": [
    {
     "data": {
      "text/plain": [
       "False"
      ]
     },
     "execution_count": 38,
     "metadata": {},
     "output_type": "execute_result"
    }
   ],
   "source": [
    "is_power_of_two(9)"
   ]
  },
  {
   "cell_type": "code",
   "execution_count": 43,
   "metadata": {},
   "outputs": [],
   "source": [
    "#9 Sum of divisors\n",
    "\n",
    "def sum_of_divisors(number):\n",
    "    \n",
    "    \n",
    "    sum1 = 0\n",
    "    \n",
    "    x = 1\n",
    "    \n",
    "    if number == 0:\n",
    "        \n",
    "        return 0\n",
    "    \n",
    "    else:\n",
    "        \n",
    "        while x < number:\n",
    "            \n",
    "            if number%x == 0:\n",
    "                \n",
    "                sum1 = sum1 + x\n",
    "            x = x + 1\n",
    "        return sum1"
   ]
  },
  {
   "cell_type": "code",
   "execution_count": 44,
   "metadata": {},
   "outputs": [
    {
     "data": {
      "text/plain": [
       "6"
      ]
     },
     "execution_count": 44,
     "metadata": {},
     "output_type": "execute_result"
    }
   ],
   "source": [
    "sum_of_divisors(6)"
   ]
  },
  {
   "cell_type": "code",
   "execution_count": 45,
   "metadata": {},
   "outputs": [],
   "source": [
    "#10 Octal to string conversion\n",
    "\n",
    "\n",
    "def octal_to_string(number):\n",
    "    \n",
    "    \n",
    "    result = \"\"\n",
    "    \n",
    "    value_letter = [(4,\"r\"),(2,\"w\"),(1,\"x\")]\n",
    "    \n",
    "    for new_value in [int(n) for n in str(number)]:\n",
    "        \n",
    "        for value, letter in value_letter:\n",
    "            \n",
    "            if new_value >= value:\n",
    "                \n",
    "                result = result + letter\n",
    "                \n",
    "                new_value -= value\n",
    "                \n",
    "            else:\n",
    "                result = result + \"-\"\n",
    "            \n",
    "    return result"
   ]
  },
  {
   "cell_type": "code",
   "execution_count": 46,
   "metadata": {},
   "outputs": [
    {
     "data": {
      "text/plain": [
       "'rwxrwxrwx'"
      ]
     },
     "execution_count": 46,
     "metadata": {},
     "output_type": "execute_result"
    }
   ],
   "source": [
    "octal_to_string(777)"
   ]
  },
  {
   "cell_type": "code",
   "execution_count": 81,
   "metadata": {},
   "outputs": [],
   "source": [
    "#11 Highlight words\n",
    "\n",
    "def highlightword(sentence,word):\n",
    "    \n",
    "    word_lst = sentence.split()\n",
    "    \n",
    "    print(word_lst)\n",
    "    \n",
    "    new_lst = []\n",
    "    for words in word_lst:\n",
    "        \n",
    "        if \"!\" in words:\n",
    "            words = words.replace(\"!\",\"\")\n",
    "        \n",
    "            if words == word:\n",
    "                \n",
    "                new_word = words.upper() + \"!\"\n",
    "                \n",
    "                new_lst.append(new_word)\n",
    "            \n",
    "            else:\n",
    "            \n",
    "                new_lst.append(words)\n",
    "        else:\n",
    "            \n",
    "            if words == word:\n",
    "                new_lst.append(words.upper())\n",
    "                \n",
    "            else:\n",
    "            \n",
    "                new_lst.append(words)\n",
    "            \n",
    "            \n",
    "    return \" \".join(new_lst)"
   ]
  },
  {
   "cell_type": "code",
   "execution_count": 82,
   "metadata": {},
   "outputs": [
    {
     "name": "stdout",
     "output_type": "stream",
     "text": [
      "['Shhh,', \"don't\", 'be', 'so', 'loud!']\n"
     ]
    },
    {
     "data": {
      "text/plain": [
       "\"Shhh, don't be so LOUD!\""
      ]
     },
     "execution_count": 82,
     "metadata": {},
     "output_type": "execute_result"
    }
   ],
   "source": [
    "highlightword(\"Shhh, don't be so loud!\", \"loud\")"
   ]
  },
  {
   "cell_type": "code",
   "execution_count": 83,
   "metadata": {},
   "outputs": [
    {
     "name": "stdout",
     "output_type": "stream",
     "text": [
      "Gfg is best  for  Geeks \n"
     ]
    }
   ],
   "source": [
    "#Replace Punctuation:\n",
    "\n",
    "test_str = \"Gfg, is best : for ! Geeks ;\"\n",
    "\n",
    "import re\n",
    "\n",
    "replaced_str = re.sub(r\"[^\\w\\s]\",\"\",test_str)\n",
    "\n",
    "print(replaced_str)"
   ]
  },
  {
   "cell_type": "code",
   "execution_count": 93,
   "metadata": {},
   "outputs": [],
   "source": [
    "#12 Connection load\n",
    "\n",
    "\n",
    "\n",
    "class Server():\n",
    "    \n",
    "    import random\n",
    "    \n",
    "    def __init__(self):\n",
    "        \n",
    "        self.connections = {}\n",
    "        \n",
    "    def add_connection(self,connection_id):\n",
    "        \n",
    "        connection_load = random.random()*10 + 1\n",
    "        \n",
    "        if connection_id in self.connections:\n",
    "            \n",
    "            self.connections[connection_id] = connections_load\n",
    "        \n",
    "        else:\n",
    "            self.connections[connection_id] = 0\n",
    "    \n",
    "    def delete_connection(self,connection_id):\n",
    "        \n",
    "        del self.connections[connections_id]\n",
    "        \n",
    "    \n",
    "    def load(self):\n",
    "        \n",
    "        total = 0\n",
    "        \n",
    "        for value in self.connections.values():\n",
    "            \n",
    "            total = total + value\n",
    "            \n",
    "        return total\n",
    "    \n",
    "    \n",
    "    def __str__(self):\n",
    "        \n",
    "        return \"{:.2f}%\".format(self.load)\n",
    "    \n",
    "        "
   ]
  },
  {
   "cell_type": "code",
   "execution_count": 94,
   "metadata": {},
   "outputs": [
    {
     "name": "stdout",
     "output_type": "stream",
     "text": [
      "0\n"
     ]
    }
   ],
   "source": [
    "server = Server()\n",
    "server.add_connection(\"192.168.1.1\")\n",
    "\n",
    "print(server.load())"
   ]
  },
  {
   "cell_type": "code",
   "execution_count": 1,
   "metadata": {},
   "outputs": [],
   "source": [
    "#13 Minimum meeting room\n",
    "\n",
    "import heapq\n",
    "\n",
    "def minmeetingroom(intervals):\n",
    "    \n",
    "    if not intervals:\n",
    "        return 0\n",
    "    \n",
    "    \n",
    "    lst = [] \n",
    "    \n",
    "    intervals.sort(key = lambda x:x[0])\n",
    "    \n",
    "    heapq.heappush(lst,intervals[0][1])\n",
    "    \n",
    "    for i in intervals[1:]:\n",
    "        \n",
    "        if lst[0] <= i[0]:\n",
    "            heapq.heappop(lst)\n",
    "        \n",
    "        heapq.heappush(lst,i[1])\n",
    "        \n",
    "    return len(lst)\n",
    "    \n",
    "    "
   ]
  },
  {
   "cell_type": "code",
   "execution_count": 2,
   "metadata": {},
   "outputs": [
    {
     "data": {
      "text/plain": [
       "2"
      ]
     },
     "execution_count": 2,
     "metadata": {},
     "output_type": "execute_result"
    }
   ],
   "source": [
    "minmeetingroom([[5,10],[0,30],[15,20]])"
   ]
  },
  {
   "cell_type": "code",
   "execution_count": 12,
   "metadata": {},
   "outputs": [],
   "source": [
    "#14 Maximun units in a truck\n",
    "\n",
    "def maximum_unit(boxtypes,trucksize):\n",
    "    \n",
    "    boxtypes.sort(key = lambda x: -x[1])\n",
    "    \n",
    "    result = 0\n",
    "    \n",
    "    i = 0\n",
    "    \n",
    "    n = len(boxtypes)\n",
    "    \n",
    "    while trucksize >= boxtypes[i][0]:\n",
    "        \n",
    "        result = result + boxtypes[i][0]*boxtypes[i][1]\n",
    "        \n",
    "        trucksize = trucksize - boxtypes[i][0]\n",
    "        \n",
    "        i = i + 1\n",
    "        \n",
    "        if i == n:\n",
    "            \n",
    "            return result\n",
    "        \n",
    "    result = result + trucksize * boxtypes[i][1]\n",
    "    \n",
    "    return result"
   ]
  },
  {
   "cell_type": "code",
   "execution_count": 13,
   "metadata": {},
   "outputs": [
    {
     "data": {
      "text/plain": [
       "8"
      ]
     },
     "execution_count": 13,
     "metadata": {},
     "output_type": "execute_result"
    }
   ],
   "source": [
    "maximum_unit([[1,3],[2,2],[3,1]],4)"
   ]
  },
  {
   "cell_type": "code",
   "execution_count": 18,
   "metadata": {},
   "outputs": [],
   "source": [
    "#15 Finding out the slowest key\n",
    "\n",
    "\n",
    "def slowest_key(releasetimes,keyspressed):\n",
    "    \n",
    "    maxes = []\n",
    "    \n",
    "    duration = []\n",
    "    \n",
    "    for i in range(len(releasetimes)):\n",
    "        \n",
    "        if i == 0:\n",
    "            \n",
    "            duration.append(releasetimes[i])\n",
    "        \n",
    "        else:\n",
    "            \n",
    "            duration.append(releasetimes[i] - releasetimes[i-1])\n",
    "            \n",
    "    m = max(duration)\n",
    "    \n",
    "    for i in range(len(duration)):\n",
    "        \n",
    "        if duration[i] == m:\n",
    "            \n",
    "            maxes.append(keyspressed[i])\n",
    "            \n",
    "    return max(maxes)"
   ]
  },
  {
   "cell_type": "code",
   "execution_count": 19,
   "metadata": {},
   "outputs": [
    {
     "data": {
      "text/plain": [
       "'c'"
      ]
     },
     "execution_count": 19,
     "metadata": {},
     "output_type": "execute_result"
    }
   ],
   "source": [
    "slowest_key([9,29,49,50],\"cbcd\")"
   ]
  },
  {
   "cell_type": "code",
   "execution_count": 20,
   "metadata": {},
   "outputs": [],
   "source": [
    "#16 Reorder data in log file \n",
    "\n",
    "def reorderlogfiles(logs):\n",
    "    \n",
    "    dl = []\n",
    "    \n",
    "    ll = []\n",
    "    \n",
    "    for log in logs:\n",
    "        \n",
    "        iden = log.split(\" \")[1:]\n",
    "        \n",
    "        if all([value.isdigit() for value in iden]):\n",
    "            dl.append(log)\n",
    "            \n",
    "        else:\n",
    "            ll.append(log)\n",
    "            \n",
    "    ll = sorted(ll, key = lambda x : (x.split(\" \")[1:],x.split(\" \")[0]))\n",
    "    \n",
    "    return ll + dl"
   ]
  },
  {
   "cell_type": "code",
   "execution_count": 22,
   "metadata": {},
   "outputs": [
    {
     "data": {
      "text/plain": [
       "'aaccba'"
      ]
     },
     "execution_count": 22,
     "metadata": {},
     "output_type": "execute_result"
    }
   ],
   "source": [
    "palindrome_break(\"abccba\")"
   ]
  },
  {
   "cell_type": "code",
   "execution_count": 21,
   "metadata": {},
   "outputs": [],
   "source": [
    "#17 Break a palindrome:\n",
    "\n",
    "def palindrome_break(string):\n",
    "    \n",
    "    if len(string) <= 1:\n",
    "        \n",
    "        return \"\"\n",
    "    \n",
    "    for i in range(len(string)//2):\n",
    "        \n",
    "        if string[i] != \"a\":\n",
    "            new_string = string[:i] + \"a\" + string[i+1:]\n",
    "            return new_string\n",
    "        \n",
    "    new_string = string[::-1] + \"b\"\n",
    "    \n",
    "    return new_string"
   ]
  },
  {
   "cell_type": "code",
   "execution_count": 11,
   "metadata": {},
   "outputs": [
    {
     "data": {
      "text/plain": [
       "''"
      ]
     },
     "execution_count": 11,
     "metadata": {},
     "output_type": "execute_result"
    }
   ],
   "source": [
    "a= \"mmm\"\n",
    "a[:0]"
   ]
  },
  {
   "cell_type": "code",
   "execution_count": 26,
   "metadata": {},
   "outputs": [],
   "source": [
    "#18 Count negative numbers \n",
    "\n",
    "def countnegatives(lst):\n",
    "    \n",
    "    m,n = len(lst),len(lst[0])\n",
    "    \n",
    "    i = 0\n",
    "    \n",
    "    out = 0\n",
    "    \n",
    "    \n",
    "    while i < m:\n",
    "        \n",
    "        j = 0\n",
    "        \n",
    "        while j < n:\n",
    "            \n",
    "            if lst[i][j] < 0 :\n",
    "                \n",
    "                out = out + (m-i)*(n-j)\n",
    "                \n",
    "                n = j\n",
    "                \n",
    "                break\n",
    "                \n",
    "            else:\n",
    "                \n",
    "                j = j + 1\n",
    "                \n",
    "        i = i + 1\n",
    "        \n",
    "    return out"
   ]
  },
  {
   "cell_type": "code",
   "execution_count": 27,
   "metadata": {},
   "outputs": [
    {
     "data": {
      "text/plain": [
       "8"
      ]
     },
     "execution_count": 27,
     "metadata": {},
     "output_type": "execute_result"
    }
   ],
   "source": [
    "countnegatives([[4,3,2,-1],[3,2,1,-1],[1,1,-1,-2],[-1,-1,-2,-3]])"
   ]
  },
  {
   "cell_type": "code",
   "execution_count": 31,
   "metadata": {},
   "outputs": [],
   "source": [
    "#19 Running sum in a list:\n",
    "\n",
    "def running_sum(lst):\n",
    "    \n",
    "    for i in range(1,len(lst)):\n",
    "        lst[i] = lst[i] + lst[i-1]\n",
    "        \n",
    "    return lst"
   ]
  },
  {
   "cell_type": "code",
   "execution_count": 32,
   "metadata": {},
   "outputs": [
    {
     "data": {
      "text/plain": [
       "[1, 3, 6, 10]"
      ]
     },
     "execution_count": 32,
     "metadata": {},
     "output_type": "execute_result"
    }
   ],
   "source": [
    "running_sum([1,2,3,4])"
   ]
  },
  {
   "cell_type": "code",
   "execution_count": 12,
   "metadata": {},
   "outputs": [],
   "source": [
    "#20 Shuffle the array:\n",
    "\n",
    "def array_shuffle(lst,num):\n",
    "    \n",
    "    arr = []\n",
    "    \n",
    "    for i in range(num):\n",
    "        arr.append(lst[i])\n",
    "        arr.append(lst[i+num])\n",
    "    return arr"
   ]
  },
  {
   "cell_type": "code",
   "execution_count": 13,
   "metadata": {},
   "outputs": [
    {
     "data": {
      "text/plain": [
       "[2, 3, 5, 4, 1, 7]"
      ]
     },
     "execution_count": 13,
     "metadata": {},
     "output_type": "execute_result"
    }
   ],
   "source": [
    "array_shuffle([2,5,1,3,4,7], num = 3)"
   ]
  },
  {
   "cell_type": "code",
   "execution_count": 42,
   "metadata": {},
   "outputs": [],
   "source": [
    "#21 Remove vowels\n",
    "\n",
    "def remove_vowels(string):\n",
    "    \n",
    "    return \"\".join(list(filter(lambda x: x.lower() not in [\"a\",\"e\",\"i\",\"o\",\"u\"],string)))"
   ]
  },
  {
   "cell_type": "code",
   "execution_count": 43,
   "metadata": {},
   "outputs": [
    {
     "data": {
      "text/plain": [
       "''"
      ]
     },
     "execution_count": 43,
     "metadata": {},
     "output_type": "execute_result"
    }
   ],
   "source": [
    "remove_vowels(\"aeiou\")"
   ]
  },
  {
   "cell_type": "code",
   "execution_count": 1,
   "metadata": {},
   "outputs": [
    {
     "name": "stdout",
     "output_type": "stream",
     "text": [
      "1 : 1\n",
      "2 : 1\n",
      "3 : 2\n",
      "4 : 3\n",
      "5 : 5\n",
      "6 : 8\n"
     ]
    }
   ],
   "source": [
    "#22 Fibonacci\n",
    "\n",
    "cache = {}\n",
    "\n",
    "def fib(number):\n",
    "    \n",
    "    if type(number) != int:\n",
    "        raise TypeError(\"Please enter integer number!\")\n",
    "    \n",
    "    if number < 1:\n",
    "        raise ValueError(\"Please enter positive number!\")\n",
    "        \n",
    "    \n",
    "    if number in cache:\n",
    "        return cache[number]\n",
    "        \n",
    "    if number == 1:\n",
    "        value = 1\n",
    "    elif number == 2:\n",
    "        value = 1\n",
    "    else:\n",
    "        value = fib(number-1) + fib(number-2)\n",
    "    \n",
    "    cache[number] = value\n",
    "    \n",
    "    return value\n",
    "\n",
    "for i in range(1,7):\n",
    "    print(i, \":\",fib(i))"
   ]
  },
  {
   "cell_type": "code",
   "execution_count": 49,
   "metadata": {},
   "outputs": [
    {
     "data": {
      "text/plain": [
       "8"
      ]
     },
     "execution_count": 49,
     "metadata": {},
     "output_type": "execute_result"
    }
   ],
   "source": [
    "fib(6)"
   ]
  },
  {
   "cell_type": "code",
   "execution_count": 55,
   "metadata": {},
   "outputs": [],
   "source": [
    "#23 Basic Unit-testing\n",
    "\n",
    "from math import pi\n",
    "\n",
    "def circle_area(r):\n",
    "    \n",
    "    if type(r) not in [int,float]:\n",
    "        raise TypeError(\"Type should be integer or float!\")\n",
    "    \n",
    "    if r < 0:\n",
    "        \n",
    "        raise ValueError(\"Area can't be negative\")\n",
    "    \n",
    "    return pi*(r**2)\n",
    "\n",
    "import unittest\n",
    "from circle import circle_area\n",
    "\n",
    "class TestCircleArea(unittest.TestCase):\n",
    "    \n",
    "    def test_area(self):\n",
    "        \n",
    "        self.assertAlmostEqual(cirle_area(1),pi)\n",
    "        self.assertAlmostEqual(circle_area(0),0)\n",
    "        self.assertAlmostEqual(circle_area(2.1),pi*2.1**2)\n",
    "        \n",
    "    \n",
    "    def test_values(self):\n",
    "        \n",
    "        self.assertRaises(ValueError,circle_area,-2)\n",
    "    \n",
    "    def test_types(self):\n",
    "        \n",
    "        self.assertRaises(TypeError,circle_area,3j+2)\n",
    "        self.assertRaises(TypeError,circle_area,True)\n",
    "        self.assertRaises(TypeError,circle_area,\"radius\")\n"
   ]
  },
  {
   "cell_type": "code",
   "execution_count": 56,
   "metadata": {},
   "outputs": [
    {
     "name": "stdout",
     "output_type": "stream",
     "text": [
      "python3 -m unittest\r\n",
      "\r\n",
      "----------------------------------------------------------------------\r\n",
      "Ran 0 tests in 0.000s\r\n",
      "\r\n",
      "OK\r\n"
     ]
    }
   ],
   "source": [
    "!python3 -m unittest <TestCircleArea_file-name>"
   ]
  },
  {
   "cell_type": "code",
   "execution_count": 63,
   "metadata": {},
   "outputs": [],
   "source": [
    "#24 FizzBuzz\n",
    "\n",
    "def fizzbuzz(number):\n",
    "    \n",
    "    answer = []\n",
    "    \n",
    "    for i in range(1,number+1):\n",
    "        \n",
    "        divisible_by_3 = (i %3 == 0)\n",
    "        \n",
    "        divisible_by_5 = (i %5 == 0)\n",
    "        \n",
    "        if divisible_by_3 and divisible_by_5:\n",
    "        \n",
    "            answer.append(\"FizzBuzz\")\n",
    "    \n",
    "        elif divisible_by_3:\n",
    "        \n",
    "            answer.append(\"Fizz\")\n",
    "        \n",
    "        elif divisible_by_5:\n",
    "        \n",
    "            answer.append(\"Buzz\")\n",
    "        \n",
    "        else:\n",
    "        \n",
    "            answer.append(str(i))\n",
    "        \n",
    "    return \" \".join(answer)"
   ]
  },
  {
   "cell_type": "code",
   "execution_count": 64,
   "metadata": {},
   "outputs": [
    {
     "data": {
      "text/plain": [
       "'1 2 Fizz 4 Buzz Fizz 7 8 Fizz Buzz 11 Fizz 13 14 FizzBuzz'"
      ]
     },
     "execution_count": 64,
     "metadata": {},
     "output_type": "execute_result"
    }
   ],
   "source": [
    "fizzbuzz(15)"
   ]
  },
  {
   "cell_type": "code",
   "execution_count": 68,
   "metadata": {},
   "outputs": [],
   "source": [
    "#25 Find the difference between two string [Given]\n",
    "\n",
    "def difference_string(s,t):\n",
    "    \n",
    "    sorted_s = sorted(s)\n",
    "    \n",
    "    sorted_t = sorted(t)\n",
    "    \n",
    "    i =0\n",
    "    \n",
    "    while i < len(s):\n",
    "     \n",
    "        if sorted_s[i] != sorted_t[i]:\n",
    "            return sorted_t[i]\n",
    "        i = i + 1\n",
    "    return sorted_t[i]"
   ]
  },
  {
   "cell_type": "code",
   "execution_count": 69,
   "metadata": {},
   "outputs": [
    {
     "data": {
      "text/plain": [
       "'e'"
      ]
     },
     "execution_count": 69,
     "metadata": {},
     "output_type": "execute_result"
    }
   ],
   "source": [
    "difference_string(\"abcd\",\"abcde\")"
   ]
  },
  {
   "cell_type": "code",
   "execution_count": 80,
   "metadata": {},
   "outputs": [],
   "source": [
    "#26 Reverse vowels in a string\n",
    "\n",
    "def reverse_vowel(string):\n",
    "    \n",
    "    string = list(string)\n",
    "    \n",
    "    vowels=\"aeiouAEIOU\"\n",
    "    \n",
    "    i,j = 0,len(string)-1\n",
    "    \n",
    "    while i < j:\n",
    "        \n",
    "        if string[i] in vowels and string[j] in vowels:\n",
    "            \n",
    "            string[i],string[j] = string[j],string[i]\n",
    "            \n",
    "            i = i + 1\n",
    "            j = j - 1\n",
    "            \n",
    "        else:\n",
    "            if string[i] not in vowels:\n",
    "                i = i + 1\n",
    "            if string[j] not in vowels:\n",
    "                j = j -1\n",
    "                \n",
    "    return \"\".join(string)\n",
    "    "
   ]
  },
  {
   "cell_type": "code",
   "execution_count": 81,
   "metadata": {},
   "outputs": [
    {
     "data": {
      "text/plain": [
       "'holle'"
      ]
     },
     "execution_count": 81,
     "metadata": {},
     "output_type": "execute_result"
    }
   ],
   "source": [
    "reverse_vowel(\"hello\")"
   ]
  },
  {
   "cell_type": "code",
   "execution_count": 82,
   "metadata": {},
   "outputs": [],
   "source": [
    "#27 Reverse a list of string \n",
    "\n",
    "def reverse_string(lst_string):\n",
    "    \n",
    "    left = 0\n",
    "    right = len(lst_string) - 1\n",
    "    \n",
    "    while left < right:\n",
    "        \n",
    "        lst_string[left],lst_string[right] = lst_string[right],lst_string[left]\n",
    "        left = left + 1\n",
    "        right = right -1\n",
    "    \n",
    "    return lst_string"
   ]
  },
  {
   "cell_type": "code",
   "execution_count": 83,
   "metadata": {},
   "outputs": [
    {
     "data": {
      "text/plain": [
       "['o', 'l', 'l', 'e', 'h']"
      ]
     },
     "execution_count": 83,
     "metadata": {},
     "output_type": "execute_result"
    }
   ],
   "source": [
    "reverse_string([\"h\",\"e\",\"l\",\"l\",\"o\"])"
   ]
  },
  {
   "cell_type": "code",
   "execution_count": 84,
   "metadata": {},
   "outputs": [],
   "source": [
    "#28 Find the duplicate number\n",
    "\n",
    "def duplicate_finder(number):\n",
    "    \n",
    "    number.sort()\n",
    "    \n",
    "    for i in range(1,len(number)):\n",
    "        \n",
    "        if number[i] == number[i-1]:\n",
    "            return number[i]"
   ]
  },
  {
   "cell_type": "code",
   "execution_count": 85,
   "metadata": {},
   "outputs": [
    {
     "data": {
      "text/plain": [
       "2"
      ]
     },
     "execution_count": 85,
     "metadata": {},
     "output_type": "execute_result"
    }
   ],
   "source": [
    "duplicate_finder([1,3,4,2,2])"
   ]
  },
  {
   "cell_type": "code",
   "execution_count": 97,
   "metadata": {},
   "outputs": [],
   "source": [
    "#29 Move Zeros\n",
    "\n",
    "def move_zeros(lst):\n",
    "    \n",
    "    count = 0\n",
    "    for i in range(len(lst)):\n",
    "        \n",
    "        if lst[i] != 0:\n",
    "            lst[count] = lst[i]\n",
    "            count = count + 1\n",
    "            \n",
    "    while count < len(lst): \n",
    "        \n",
    "        lst[count] = 0\n",
    "        count = count + 1\n",
    "        \n",
    "    return lst\n",
    "        \n",
    "        "
   ]
  },
  {
   "cell_type": "code",
   "execution_count": 98,
   "metadata": {},
   "outputs": [
    {
     "data": {
      "text/plain": [
       "[1, 3, 12, 0, 0]"
      ]
     },
     "execution_count": 98,
     "metadata": {},
     "output_type": "execute_result"
    }
   ],
   "source": [
    "move_zeros([0,1,0,3,12])"
   ]
  },
  {
   "cell_type": "code",
   "execution_count": 101,
   "metadata": {},
   "outputs": [],
   "source": [
    "#30 Another meeting room\n",
    "\n",
    "def meeting_room(intervals):\n",
    "    \n",
    "    intervals.sort()\n",
    "    \n",
    "    for i in range(len(intervals)-1):\n",
    "        \n",
    "        if intervals[i][1] > intervals[i+1][0]:\n",
    "            return False\n",
    "    return True"
   ]
  },
  {
   "cell_type": "code",
   "execution_count": 102,
   "metadata": {},
   "outputs": [
    {
     "data": {
      "text/plain": [
       "True"
      ]
     },
     "execution_count": 102,
     "metadata": {},
     "output_type": "execute_result"
    }
   ],
   "source": [
    "meeting_room([[7,10],[2,4]])"
   ]
  },
  {
   "cell_type": "code",
   "execution_count": 106,
   "metadata": {},
   "outputs": [],
   "source": [
    "#31 Missing Number:\n",
    "\n",
    "def missing_number(lst):\n",
    "    \n",
    "    lst.sort()\n",
    "    \n",
    "    length = len(lst)\n",
    "    \n",
    "    if lst[-1] != length:\n",
    "        \n",
    "        return length\n",
    "    \n",
    "    if lst[0] != 0:\n",
    "        return 0\n",
    "    \n",
    "    for i in range(1,length):\n",
    "        \n",
    "        expected_num = lst[i-1] + 1\n",
    "        \n",
    "        if lst[i] != expected_num:\n",
    "            return expected_num"
   ]
  },
  {
   "cell_type": "code",
   "execution_count": 107,
   "metadata": {},
   "outputs": [
    {
     "data": {
      "text/plain": [
       "2"
      ]
     },
     "execution_count": 107,
     "metadata": {},
     "output_type": "execute_result"
    }
   ],
   "source": [
    "missing_number([3,0,1])"
   ]
  },
  {
   "cell_type": "code",
   "execution_count": 111,
   "metadata": {},
   "outputs": [],
   "source": [
    "#32 Product of array element except self:\n",
    "\n",
    "def product_array(lst):\n",
    "    \n",
    "    length = len(lst)\n",
    "    \n",
    "    \n",
    "    L,R,answer = [0]*length,[0]*length,[0]*length\n",
    "    \n",
    "    \n",
    "    L[0] = 1\n",
    "    \n",
    "    for i in range(1,length):\n",
    "        \n",
    "        L[i] = L[i-1] * lst[i-1]\n",
    "        \n",
    "    R[length-1] = 1\n",
    "    \n",
    "    for i in reversed(range(length-1)):\n",
    "        R[i] = R[i+1] * lst[i+1]\n",
    "                      \n",
    "    \n",
    "    for i in range(length):\n",
    "        answer[i] = L[i]*R[i]\n",
    "    \n",
    "    return answer"
   ]
  },
  {
   "cell_type": "code",
   "execution_count": 3,
   "metadata": {},
   "outputs": [
    {
     "name": "stdout",
     "output_type": "stream",
     "text": [
      "4\n",
      "3\n",
      "2\n",
      "1\n",
      "0\n"
     ]
    }
   ],
   "source": [
    "for i in reversed(range(5)):\n",
    "    print(i)"
   ]
  },
  {
   "cell_type": "code",
   "execution_count": 112,
   "metadata": {},
   "outputs": [
    {
     "data": {
      "text/plain": [
       "[24, 12, 8, 6]"
      ]
     },
     "execution_count": 112,
     "metadata": {},
     "output_type": "execute_result"
    }
   ],
   "source": [
    "product_array([1,2,3,4])"
   ]
  },
  {
   "cell_type": "code",
   "execution_count": 113,
   "metadata": {},
   "outputs": [],
   "source": [
    "#33 Find majority element:\n",
    "\n",
    "def majority_element(lst):\n",
    "    \n",
    "    majority_element = len(lst)//2\n",
    "    \n",
    "    for num in lst:\n",
    "        \n",
    "        count = sum(1 for ele in lst if ele ==num)\n",
    "        \n",
    "        if count > majority_element:\n",
    "            return num"
   ]
  },
  {
   "cell_type": "code",
   "execution_count": 114,
   "metadata": {},
   "outputs": [
    {
     "data": {
      "text/plain": [
       "2"
      ]
     },
     "execution_count": 114,
     "metadata": {},
     "output_type": "execute_result"
    }
   ],
   "source": [
    "majority_element([2,2,1,1,1,2,2])"
   ]
  },
  {
   "cell_type": "code",
   "execution_count": 115,
   "metadata": {},
   "outputs": [],
   "source": [
    "#34 Another two sum in sorted array\n",
    "\n",
    "def two_sum(lst,target):\n",
    "    \n",
    "    i,j = 0,len(lst)-1\n",
    "    \n",
    "    while i < j:\n",
    "        \n",
    "        if lst[i] + lst[j] == target:\n",
    "            return [i+1,j+1]\n",
    "        \n",
    "        elif lst[i] + lst[j] > target:\n",
    "            j = j - 1\n",
    "            \n",
    "        elif lst[i] + lst[j] < target:\n",
    "            i = i + 1"
   ]
  },
  {
   "cell_type": "code",
   "execution_count": 116,
   "metadata": {},
   "outputs": [
    {
     "data": {
      "text/plain": [
       "[1, 2]"
      ]
     },
     "execution_count": 116,
     "metadata": {},
     "output_type": "execute_result"
    }
   ],
   "source": [
    "two_sum([2,7,11,15],9)"
   ]
  },
  {
   "cell_type": "code",
   "execution_count": 117,
   "metadata": {},
   "outputs": [],
   "source": [
    "#35 Find single number in a list \n",
    "\n",
    "def single_number(lst):\n",
    "    \n",
    "    no_duplicate_lst = []\n",
    "    \n",
    "    for i in lst:\n",
    "        if i not in no_duplicate_lst:\n",
    "            no_duplicate_lst.append(i)\n",
    "        else:\n",
    "            no_duplicate_lst.remove(i)\n",
    "            \n",
    "    return no_duplicate_lst.pop()"
   ]
  },
  {
   "cell_type": "code",
   "execution_count": 118,
   "metadata": {},
   "outputs": [
    {
     "data": {
      "text/plain": [
       "4"
      ]
     },
     "execution_count": 118,
     "metadata": {},
     "output_type": "execute_result"
    }
   ],
   "source": [
    "single_number([4,1,2,1,2])"
   ]
  },
  {
   "cell_type": "code",
   "execution_count": 119,
   "metadata": {},
   "outputs": [],
   "source": [
    "#36 Best time to buy and sell a stock:\n",
    "\n",
    "def max_profit(lst):\n",
    "    \n",
    "    min_till_now = lst[0]\n",
    "    \n",
    "    max_profit = 0\n",
    "    \n",
    "    for price in lst[1:]:\n",
    "        \n",
    "        if price < min_till_now:\n",
    "            \n",
    "            min_till_now = price\n",
    "        \n",
    "        else:\n",
    "            \n",
    "            diff = price - min_till_now\n",
    "            \n",
    "            if diff > max_profit:\n",
    "                max_profit = diff\n",
    "                \n",
    "    return max_profit"
   ]
  },
  {
   "cell_type": "code",
   "execution_count": 120,
   "metadata": {},
   "outputs": [
    {
     "data": {
      "text/plain": [
       "5"
      ]
     },
     "execution_count": 120,
     "metadata": {},
     "output_type": "execute_result"
    }
   ],
   "source": [
    "max_profit([7,1,5,3,6,4])"
   ]
  },
  {
   "cell_type": "code",
   "execution_count": 139,
   "metadata": {},
   "outputs": [],
   "source": [
    "#37 Merge sorted array:\n",
    "\n",
    "def merge_sort(arr1,arr2):\n",
    "    \n",
    "    length_arr1 = len(arr1)\n",
    "    \n",
    "    length_arr2 = len(arr2)\n",
    "    \n",
    "    for i in range(length_arr2):\n",
    "        arr1[i+length_arr2] = arr2[i]\n",
    "        \n",
    "    arr1.sort()\n",
    "    \n",
    "    return arr1"
   ]
  },
  {
   "cell_type": "code",
   "execution_count": 140,
   "metadata": {},
   "outputs": [
    {
     "data": {
      "text/plain": [
       "[1, 2, 2, 3, 5, 6]"
      ]
     },
     "execution_count": 140,
     "metadata": {},
     "output_type": "execute_result"
    }
   ],
   "source": [
    "merge_sort([1,2,3,0,0,0],[2,5,6])"
   ]
  },
  {
   "cell_type": "code",
   "execution_count": 141,
   "metadata": {},
   "outputs": [],
   "source": [
    "#38 Sort Colors:\n",
    "\n",
    "def sort_colors(lst):\n",
    "    \n",
    "    low = 0\n",
    "    high = len(lst) - 1\n",
    "    mid = 0\n",
    "    \n",
    "    while mid <= high:\n",
    "        \n",
    "        if lst[mid] == 0:\n",
    "            lst[low],lst[mid] = lst[mid],lst[low]\n",
    "            low = low + 1\n",
    "            mid = mid + 1\n",
    "        elif lst[mid] == 2:\n",
    "            lst[high],lst[mid] = lst[mid],lst[high]\n",
    "            high = high - 1\n",
    "        else:\n",
    "            mid = mid + 1\n",
    "    \n",
    "    return lst"
   ]
  },
  {
   "cell_type": "code",
   "execution_count": 142,
   "metadata": {},
   "outputs": [
    {
     "data": {
      "text/plain": [
       "[0, 0, 1, 1, 2, 2]"
      ]
     },
     "execution_count": 142,
     "metadata": {},
     "output_type": "execute_result"
    }
   ],
   "source": [
    "sort_colors([2,0,2,1,1,0])"
   ]
  },
  {
   "cell_type": "code",
   "execution_count": 150,
   "metadata": {},
   "outputs": [],
   "source": [
    "#39 Merge intervals:\n",
    "\n",
    "def merge_intervals(intervals):\n",
    "    \n",
    "    i = 1\n",
    "    \n",
    "    while i < len(intervals):\n",
    "        \n",
    "        if intervals[i][0] <= intervals[i-1][1]:\n",
    "            intervals[i-1][0] = min(intervals[i-1][0],intervals[i][0])\n",
    "            intervals[i-1][1] = max(intervals[i-1][1],intervals[i][1])\n",
    "            intervals.pop(i)\n",
    "        else:\n",
    "            i = i + 1\n",
    "            \n",
    "    return intervals\n",
    "            "
   ]
  },
  {
   "cell_type": "code",
   "execution_count": 151,
   "metadata": {},
   "outputs": [
    {
     "data": {
      "text/plain": [
       "[[1, 6], [8, 10], [15, 18]]"
      ]
     },
     "execution_count": 151,
     "metadata": {},
     "output_type": "execute_result"
    }
   ],
   "source": [
    "merge_intervals([[1,3],[2,6],[8,10],[15,18]])"
   ]
  },
  {
   "cell_type": "code",
   "execution_count": 3,
   "metadata": {},
   "outputs": [],
   "source": [
    "#40 Contiguous sub-array:\n",
    "#Using Kadane's algorithm: https://www.youtube.com/watch?v=mXb-NPo0ldI&t=549s&ab_channel=nETSETOS\n",
    "\n",
    "def maxsubarray(nums):\n",
    "    \n",
    "    n = len(nums)\n",
    "    dp = [0]*n\n",
    "    dp[0] = nums[0]\n",
    "    \n",
    "    for i in range(1,n):\n",
    "        dp[i] = max(dp[i-1]+nums[i],nums[i])\n",
    "    print(dp)\n",
    "    \n",
    "    return max(dp)"
   ]
  },
  {
   "cell_type": "code",
   "execution_count": 6,
   "metadata": {},
   "outputs": [
    {
     "name": "stdout",
     "output_type": "stream",
     "text": [
      "[-2, 1, -2, 4, 3, 5, 6, 1, 5]\n"
     ]
    },
    {
     "data": {
      "text/plain": [
       "6"
      ]
     },
     "execution_count": 6,
     "metadata": {},
     "output_type": "execute_result"
    }
   ],
   "source": [
    "maxsubarray([-2,1,-3,4,-1,2,1,-5,4])"
   ]
  },
  {
   "cell_type": "code",
   "execution_count": 161,
   "metadata": {},
   "outputs": [],
   "source": [
    "#41 Remove element from array:\n",
    "\n",
    "def remove_element(lst,value):\n",
    "    \n",
    "    for i in range(lst.count(value)):\n",
    "        lst.remove(value)\n",
    "    return lst"
   ]
  },
  {
   "cell_type": "code",
   "execution_count": 162,
   "metadata": {},
   "outputs": [
    {
     "data": {
      "text/plain": [
       "[2, 2]"
      ]
     },
     "execution_count": 162,
     "metadata": {},
     "output_type": "execute_result"
    }
   ],
   "source": [
    "remove_element([3,2,2,3],3)"
   ]
  },
  {
   "cell_type": "code",
   "execution_count": 163,
   "metadata": {},
   "outputs": [],
   "source": [
    "#42 Remove duplicates:\n",
    "\n",
    "\n",
    "def remove_duplicate(lst):\n",
    "    \n",
    "    i = 0\n",
    "    \n",
    "    while i+1 < len(lst):\n",
    "        \n",
    "        if lst[i] == lst[i+1]:\n",
    "            del lst[i]\n",
    "        \n",
    "        else:\n",
    "            i = i + 1\n",
    "    return lst"
   ]
  },
  {
   "cell_type": "code",
   "execution_count": 164,
   "metadata": {},
   "outputs": [
    {
     "data": {
      "text/plain": [
       "[0, 1, 2, 3, 4]"
      ]
     },
     "execution_count": 164,
     "metadata": {},
     "output_type": "execute_result"
    }
   ],
   "source": [
    "remove_duplicate([0,0,1,1,1,2,2,3,3,4])"
   ]
  },
  {
   "cell_type": "code",
   "execution_count": 40,
   "metadata": {},
   "outputs": [],
   "source": [
    "#43 Most common word:\n",
    "\n",
    "def common_word(paragraph,lst):\n",
    "    \n",
    "    from collections import Counter\n",
    "    \n",
    "    str1 = [ch.lower() if ch not in \"!.,:`\" else ' ' for ch in paragraph]\n",
    "    \n",
    "    counter = Counter(\"\".join(str1).split())\n",
    "    \n",
    "    print(counter)\n",
    "    \n",
    "    maximum, res = 0, ''\n",
    "    \n",
    "    for word in counter:\n",
    "        if word not in lst and counter[word] > maximum:\n",
    "            \n",
    "            maximum = counter[word]\n",
    "            res = word\n",
    "            \n",
    "    return res"
   ]
  },
  {
   "cell_type": "code",
   "execution_count": 41,
   "metadata": {},
   "outputs": [
    {
     "name": "stdout",
     "output_type": "stream",
     "text": [
      "Counter({'hit': 3, 'ball': 2, 'bob': 1, 'a': 1, 'the': 1, 'flew': 1, 'far': 1, 'after': 1, 'it': 1, 'was': 1})\n"
     ]
    },
    {
     "data": {
      "text/plain": [
       "'ball'"
      ]
     },
     "execution_count": 41,
     "metadata": {},
     "output_type": "execute_result"
    }
   ],
   "source": [
    "common_word(\"Bob hit a ball, the hit BALL flew far after it was hit.\",[\"hit\"])"
   ]
  },
  {
   "cell_type": "code",
   "execution_count": 191,
   "metadata": {},
   "outputs": [],
   "source": [
    "#44 Baseball game:\n",
    "\n",
    "def baseball_game(lst):\n",
    "    \n",
    "    stack = []\n",
    "    \n",
    "    for ops in lst:\n",
    "        \n",
    "        if ops == \"+\":\n",
    "            stack.append(stack[-1] + stack[-2])\n",
    "        \n",
    "        elif ops == \"C\":\n",
    "            stack.pop()\n",
    "        \n",
    "        elif ops == \"D\":\n",
    "            stack.append(2*stack[-1])\n",
    "        \n",
    "        else:\n",
    "            stack.append(int(ops))\n",
    "    \n",
    "    return sum(stack)\n",
    "            "
   ]
  },
  {
   "cell_type": "code",
   "execution_count": 192,
   "metadata": {},
   "outputs": [
    {
     "data": {
      "text/plain": [
       "30"
      ]
     },
     "execution_count": 192,
     "metadata": {},
     "output_type": "execute_result"
    }
   ],
   "source": [
    "baseball_game([\"5\",\"2\",\"C\",\"D\",\"+\"])"
   ]
  },
  {
   "cell_type": "code",
   "execution_count": 197,
   "metadata": {},
   "outputs": [],
   "source": [
    "#45 Partition labels\n",
    "\n",
    "def partition_label(string):\n",
    "    \n",
    "    last = {c:i for i,c in enumerate(string)}\n",
    "    \n",
    "    maxi,output,size = -1,[],1\n",
    "    \n",
    "    for i,c in enumerate(string):\n",
    "        \n",
    "        maxi = max(maxi,last[c])\n",
    "        \n",
    "        if i == maxi:\n",
    "            \n",
    "            output.append(size)\n",
    "            size = 1\n",
    "            \n",
    "        else:\n",
    "            size = size + 1\n",
    "            \n",
    "    return output"
   ]
  },
  {
   "cell_type": "code",
   "execution_count": 198,
   "metadata": {},
   "outputs": [
    {
     "data": {
      "text/plain": [
       "[9, 7, 8]"
      ]
     },
     "execution_count": 198,
     "metadata": {},
     "output_type": "execute_result"
    }
   ],
   "source": [
    "partition_label(\"ababcbacadefegdehijhklij\")"
   ]
  },
  {
   "cell_type": "code",
   "execution_count": 200,
   "metadata": {},
   "outputs": [],
   "source": [
    "#46 K-closest to Origin:\n",
    "\n",
    "def Kclosestorigin(lst,k):\n",
    "    \n",
    "    lst.sort(key = lambda x:x[0]**2 + x[1]**2)\n",
    "    return lst[:k]"
   ]
  },
  {
   "cell_type": "code",
   "execution_count": 201,
   "metadata": {},
   "outputs": [
    {
     "data": {
      "text/plain": [
       "[[3, 3], [-2, 4]]"
      ]
     },
     "execution_count": 201,
     "metadata": {},
     "output_type": "execute_result"
    }
   ],
   "source": [
    "Kclosestorigin([[3,3],[5,-1],[-2,4]],2)"
   ]
  },
  {
   "cell_type": "code",
   "execution_count": 206,
   "metadata": {},
   "outputs": [],
   "source": [
    "#47 Longest Palindrome match:\n",
    "\n",
    "def longestpalindrome(string):\n",
    "    \n",
    "    for i in range(len(string),0,-1):\n",
    "        \n",
    "        count = 0\n",
    "        \n",
    "        while count + i < len(string):\n",
    "            if string[count:count+i] == string[count:count+i][::-1]:\n",
    "                return string[count:count+i]\n",
    "            count = count + 1\n",
    "    return -1\n",
    "                "
   ]
  },
  {
   "cell_type": "code",
   "execution_count": 207,
   "metadata": {},
   "outputs": [
    {
     "data": {
      "text/plain": [
       "'bab'"
      ]
     },
     "execution_count": 207,
     "metadata": {},
     "output_type": "execute_result"
    }
   ],
   "source": [
    "longestpalindrome(\"babad\")"
   ]
  },
  {
   "cell_type": "code",
   "execution_count": 36,
   "metadata": {},
   "outputs": [],
   "source": [
    "#48 How to find-out MAC-address from the string:\n",
    "\n",
    "def mac_address(string): \n",
    "    \n",
    "    import re\n",
    "    \n",
    "    pattern = r\"([0-9a-f]{4}\\.){2}([0-9a-f]{4})\" \n",
    "    \n",
    "    mac_address = ''\n",
    "    \n",
    "    if re.search(pattern,string,re.I):\n",
    "        result = re.search(pattern,string,re.I)\n",
    "        return result[0]\n",
    "    #return mac_address"
   ]
  },
  {
   "cell_type": "code",
   "execution_count": 37,
   "metadata": {},
   "outputs": [
    {
     "data": {
      "text/plain": [
       "'0000.0000.aaaa'"
      ]
     },
     "execution_count": 37,
     "metadata": {},
     "output_type": "execute_result"
    }
   ],
   "source": [
    "string=\"Here is the mac-address 0000.0000.aaaa\"\n",
    "mac_address(string)"
   ]
  },
  {
   "cell_type": "code",
   "execution_count": 215,
   "metadata": {},
   "outputs": [],
   "source": [
    "#49 Creation of stack:\n",
    "\n",
    "class stack:\n",
    "    \n",
    "    def __init__(self):\n",
    "        \n",
    "        self.stack = []\n",
    "        \n",
    "    def push(self,item):\n",
    "        self.stack.append(item)\n",
    "        \n",
    "    def isEmpty(self):\n",
    "        \n",
    "        return self.stack == []\n",
    "    \n",
    "    def size(self):\n",
    "        \n",
    "        return len(self.stack)\n",
    "    \n",
    "    def pop(self):\n",
    "        \n",
    "        return self.stack.pop()\n",
    "    \n",
    "    def peek(self):\n",
    "        \n",
    "        return self.stack[len(self.stack)-1]"
   ]
  },
  {
   "cell_type": "code",
   "execution_count": 216,
   "metadata": {},
   "outputs": [
    {
     "data": {
      "text/plain": [
       "1"
      ]
     },
     "execution_count": 216,
     "metadata": {},
     "output_type": "execute_result"
    }
   ],
   "source": [
    "s = stack()\n",
    "s.push(1)\n",
    "s.peek()"
   ]
  },
  {
   "cell_type": "code",
   "execution_count": 219,
   "metadata": {},
   "outputs": [],
   "source": [
    "#50 bubble sort:\n",
    "\n",
    "def bubble_sort(arr):\n",
    "    \n",
    "    for i in range(len(arr),0,-1):\n",
    "        \n",
    "        for j in range(len(arr)-1):\n",
    "            \n",
    "            if arr[j] > arr[j+1]:\n",
    "                temp = arr[j]\n",
    "                arr[j] = arr[j+1]\n",
    "                arr[j+1] = temp\n",
    "                \n",
    "    return arr"
   ]
  },
  {
   "cell_type": "code",
   "execution_count": 220,
   "metadata": {},
   "outputs": [
    {
     "data": {
      "text/plain": [
       "[1, 2, 3, 4, 5]"
      ]
     },
     "execution_count": 220,
     "metadata": {},
     "output_type": "execute_result"
    }
   ],
   "source": [
    "bubble_sort([5,4,3,2,1])"
   ]
  },
  {
   "cell_type": "code",
   "execution_count": 2,
   "metadata": {},
   "outputs": [],
   "source": [
    "#51 bineary search:\n",
    "\n",
    "def bin_search(arr,ele):\n",
    "    \n",
    "    first = 0\n",
    "    \n",
    "    last = len(arr) - 1\n",
    "    \n",
    "    found = False\n",
    "    \n",
    "    while first <= last and not found:\n",
    "        \n",
    "        mid = (first + last)//2\n",
    "        \n",
    "        if arr[mid] == ele:\n",
    "            \n",
    "            found = True\n",
    "        else:\n",
    "            \n",
    "            if ele < arr[mid]:\n",
    "                last = mid -1\n",
    "            else:\n",
    "                first = mid+1\n",
    "    \n",
    "    return found"
   ]
  },
  {
   "cell_type": "code",
   "execution_count": 4,
   "metadata": {},
   "outputs": [
    {
     "data": {
      "text/plain": [
       "False"
      ]
     },
     "execution_count": 4,
     "metadata": {},
     "output_type": "execute_result"
    }
   ],
   "source": [
    "bin_search([1,2,3,4,5,6,7,8,9,10],11)"
   ]
  },
  {
   "cell_type": "code",
   "execution_count": 232,
   "metadata": {},
   "outputs": [
    {
     "name": "stdout",
     "output_type": "stream",
     "text": [
      "total 18438960\n"
     ]
    }
   ],
   "source": [
    "#52 Subprocess module usage:\n",
    "\n",
    "import subprocess\n",
    "\n",
    "cmd = [\"ls\",\"-ltr\"]\n",
    "\n",
    "proc = subprocess.Popen(cmd,stdout=subprocess.PIPE,stderr=subprocess.PIPE)\n",
    "\n",
    "o,e = proc.communicate()\n",
    "\n",
    "value = o.decode('utf-8')\n",
    "print(value.split(\"\\n\")[0])"
   ]
  },
  {
   "cell_type": "code",
   "execution_count": 240,
   "metadata": {},
   "outputs": [],
   "source": [
    "#53 shell command using python:\n",
    "\n",
    "\n",
    "def shell_command():\n",
    "    import os\n",
    "\n",
    "    cmd = input(\"Enter your command here:\")\n",
    "\n",
    "    output=os.popen(cmd).read()\n",
    "\n",
    "    output_lst = output.split(\"\\n\")\n",
    "\n",
    "    count = 0\n",
    "\n",
    "    for line in range(1,len(output_lst)-1):\n",
    "        value_lst = output_lst[line].split()\n",
    "    \n",
    "        target_value = int(value_lst[4])\n",
    "    \n",
    "        if count == 0:\n",
    "            if target_value > 20000:\n",
    "                count = count + 1 \n",
    "        elif count >= 1:\n",
    "            if target_value > 20000:\n",
    "                count = count + 1\n",
    "                if count == 5:\n",
    "                    return \"System is in Danger!\"\n",
    "            else:\n",
    "                count = 0\n",
    "    return \"System is in good condition!\""
   ]
  },
  {
   "cell_type": "code",
   "execution_count": 241,
   "metadata": {},
   "outputs": [
    {
     "name": "stdout",
     "output_type": "stream",
     "text": [
      "Enter your command here:ls -ltr\n"
     ]
    },
    {
     "data": {
      "text/plain": [
       "'System is in Danger!'"
      ]
     },
     "execution_count": 241,
     "metadata": {},
     "output_type": "execute_result"
    }
   ],
   "source": [
    "shell_command()"
   ]
  },
  {
   "cell_type": "code",
   "execution_count": 18,
   "metadata": {},
   "outputs": [],
   "source": [
    "#54 Count prime:\n",
    "\n",
    "def prime(n):\n",
    "    \n",
    "    lst = []\n",
    "    \n",
    "    if n <= 2:\n",
    "        \n",
    "        return 0\n",
    "    \n",
    "    else:\n",
    "        lst.append(2)\n",
    "        \n",
    "        for i in range(3,n):\n",
    "            \n",
    "            for j in range(2,i):\n",
    "                if  i%j == 0:\n",
    "                    break\n",
    "            else:\n",
    "                lst.append(i)\n",
    "    return lst\n",
    "\n",
    "def efficient_prime(n):\n",
    "    \n",
    "    if n <= 2:    \n",
    "        return 0\n",
    "    \n",
    "    result = [1] * n\n",
    "    \n",
    "    result[0] = result[1] = 0\n",
    "    \n",
    "    for num in range(2,n):\n",
    "        \n",
    "        if result[num] == 1:\n",
    "            \n",
    "            for j in range(num**2,n,num):\n",
    "                result[j] = 0\n",
    "                \n",
    "    return sum(result)\n",
    "    "
   ]
  },
  {
   "cell_type": "code",
   "execution_count": 19,
   "metadata": {},
   "outputs": [
    {
     "data": {
      "text/plain": [
       "[2, 3, 5]"
      ]
     },
     "execution_count": 19,
     "metadata": {},
     "output_type": "execute_result"
    }
   ],
   "source": [
    "prime(6)"
   ]
  },
  {
   "cell_type": "code",
   "execution_count": 20,
   "metadata": {},
   "outputs": [
    {
     "data": {
      "text/plain": [
       "3"
      ]
     },
     "execution_count": 20,
     "metadata": {},
     "output_type": "execute_result"
    }
   ],
   "source": [
    "efficient_prime(6)"
   ]
  },
  {
   "cell_type": "code",
   "execution_count": 270,
   "metadata": {},
   "outputs": [],
   "source": [
    "#55 Array pair:\n",
    "\n",
    "def array_pair(string):\n",
    "    \n",
    "    lst = [word for word in string]\n",
    "\n",
    "    new_lst = []\n",
    "    i = 0\n",
    "\n",
    "    while i < len(lst)-1:\n",
    "    \n",
    "        if lst[i] != lst[i+1]:\n",
    "            new_lst.append((lst[i],lst[i+1]))\n",
    "            lst.remove(lst[i])\n",
    "            lst.remove(lst[i+1])\n",
    "            i = 0\n",
    "        else:\n",
    "            i = i + 1\n",
    "    return new_lst"
   ]
  },
  {
   "cell_type": "code",
   "execution_count": 271,
   "metadata": {},
   "outputs": [
    {
     "data": {
      "text/plain": [
       "[('A', 'B'),\n",
       " ('A', 'B'),\n",
       " ('B', 'C'),\n",
       " ('C', 'D'),\n",
       " ('D', 'E'),\n",
       " ('E', 'F'),\n",
       " ('F', 'Z'),\n",
       " ('F', 'Z')]"
      ]
     },
     "execution_count": 271,
     "metadata": {},
     "output_type": "execute_result"
    }
   ],
   "source": [
    "array_pair('AABBCCDDEEFFGFZZZZZZ')"
   ]
  },
  {
   "cell_type": "code",
   "execution_count": 284,
   "metadata": {},
   "outputs": [],
   "source": [
    "#56 Array partition:\n",
    "\n",
    "def array_partition(arr):\n",
    "    \n",
    "    if sum(arr)%2 != 0:\n",
    "        return False\n",
    "    \n",
    "    lst1 = []\n",
    "    lst2 = []\n",
    "    \n",
    "    arr.sort()\n",
    "    \n",
    "    for i in range(len(arr)):\n",
    "        lst1.append(arr.pop())\n",
    "        if sum(lst1) == sum(arr):\n",
    "            for j in range(len(arr)):\n",
    "                lst2.append(arr[j])\n",
    "            return lst1,lst2        \n",
    "        elif sum(lst1) > sum(arr): \n",
    "            arr.insert(0,lst1.pop())\n",
    "            \n",
    "    return False"
   ]
  },
  {
   "cell_type": "code",
   "execution_count": 285,
   "metadata": {},
   "outputs": [
    {
     "data": {
      "text/plain": [
       "([6, 4], [5, 2, 3])"
      ]
     },
     "execution_count": 285,
     "metadata": {},
     "output_type": "execute_result"
    }
   ],
   "source": [
    "array_partition([2,3,4,5,6])"
   ]
  },
  {
   "cell_type": "code",
   "execution_count": 288,
   "metadata": {},
   "outputs": [],
   "source": [
    "#57 String compression:\n",
    "\n",
    "def compression(s):\n",
    "    \n",
    "    l = len(s)\n",
    "    \n",
    "    r = \"\"\n",
    "    \n",
    "    cnt = 1\n",
    "    i=1\n",
    "    \n",
    "    if len(s) == 0:\n",
    "        return 0\n",
    "    \n",
    "    if len(s) == 1:\n",
    "        return s+\"1\"\n",
    "    \n",
    "    while i < l:\n",
    "        if s[i-1] == s[i]:\n",
    "            cnt = cnt + 1\n",
    "        else:\n",
    "            r = r+s[i-1]+str(cnt)\n",
    "            cnt =1\n",
    "        i = i + 1\n",
    "            \n",
    "    return r+s[i-1]+str(cnt)\n",
    "    "
   ]
  },
  {
   "cell_type": "code",
   "execution_count": 289,
   "metadata": {},
   "outputs": [
    {
     "data": {
      "text/plain": [
       "'A3B4C1D1'"
      ]
     },
     "execution_count": 289,
     "metadata": {},
     "output_type": "execute_result"
    }
   ],
   "source": [
    "compression(\"AAABBBBCD\")"
   ]
  },
  {
   "cell_type": "code",
   "execution_count": 290,
   "metadata": {},
   "outputs": [],
   "source": [
    "#58 Spiral matrix:\n",
    "\n",
    "def spiral_matrix(matrix):\n",
    "    \n",
    "    answer = []\n",
    "    \n",
    "    row_begin = 0                                            \n",
    "    row_end = len(matrix[0])\n",
    "    col_begin = 0\n",
    "    col_end = len(matrix)\n",
    "    \n",
    "    matrix_size = len(matrix) * len(matrix[0])\n",
    "    \n",
    "    while True:\n",
    "        \n",
    "        if len(answer) < matrix_size:\n",
    "            \n",
    "            for i in range(row_begin,row_end):\n",
    "                answer.append(matrix[row_begin][i])\n",
    "            col_begin = col_begin + 1\n",
    "                \n",
    "        if len(answer) < matrix_size:\n",
    "            \n",
    "            for i in range(col_begin,col_end):\n",
    "                answer.append(matrix[i][row_end-1])\n",
    "            row_end = row_end - 1\n",
    "            \n",
    "        if len(answer) < matrix_size:\n",
    "            \n",
    "            for i in range(row_end-1,row_begin-1,-1):\n",
    "                answer.append(matrix[col_end -1][i])\n",
    "            \n",
    "            col_end = col_end - 1\n",
    "            \n",
    "        if len(answer) < matrix_size:\n",
    "            \n",
    "            for i in range(col_end-1,col_begin,-1):\n",
    "                answer.append(matrix[i][row_begin])\n",
    "            row_begin = row_begin + 1\n",
    "            \n",
    "        if not len(answer) < matrix_size:\n",
    "            break\n",
    "    return answer"
   ]
  },
  {
   "cell_type": "code",
   "execution_count": 292,
   "metadata": {},
   "outputs": [],
   "source": [
    "#59 substring matching:\n",
    "\n",
    "def sub_string(s,sub):\n",
    "    result = 0\n",
    "    len_sub = len(sub)\n",
    "    \n",
    "    for i in range(len(s)):\n",
    "        if s[i:i+len_sub] == sub:\n",
    "            result = result + 1\n",
    "    return result\n",
    "    "
   ]
  },
  {
   "cell_type": "code",
   "execution_count": 293,
   "metadata": {},
   "outputs": [
    {
     "data": {
      "text/plain": [
       "2"
      ]
     },
     "execution_count": 293,
     "metadata": {},
     "output_type": "execute_result"
    }
   ],
   "source": [
    "sub_string('arunununghhjj','nun')"
   ]
  },
  {
   "cell_type": "code",
   "execution_count": 1,
   "metadata": {},
   "outputs": [],
   "source": [
    "#60 Battleship game:\n",
    "\n",
    "board = []\n",
    "\n",
    "for i in range(5):\n",
    "    board.append([\"0\"]*5)\n",
    "    \n",
    "def board_condition(board):\n",
    "    for i in board:\n",
    "        print(\" \".join(i))\n",
    "\n",
    "def battle_ship_game(board):\n",
    "    board_condition(board)\n",
    "    import random\n",
    "\n",
    "    row_choice_pc = random.randint(0,4)\n",
    "    col_choice_pc = random.randint(0,4)\n",
    "    \n",
    "    for round in range(5):\n",
    "        user_row = int(input(\"Enter row value:\"))\n",
    "        user_col = int(input(\"Ener column value:\"))\n",
    "        \n",
    "        if user_row < 0 or user_row > 4 or user_col < 0 or user_col > 4:\n",
    "            print(\"Incorrect Co-ordinate selection by user input !\")\n",
    "        elif board[user_row][user_col] == \"X\":\n",
    "            print(\"Already guessed!\")\n",
    "        else:\n",
    "            board[user_row][user_col] = \"X\"\n",
    "            board_condition(board)\n",
    "            if user_row == row_choice_pc and user_col == col_choice_pc:\n",
    "                print(\"User Won! Correctly guessed!\")\n",
    "                board_condition(board)\n",
    "                break\n",
    "            else:\n",
    "                print(\"Incorectly guessed!\")\n",
    "        print(\"Round left: {}\".format(5-(round+1)))\n",
    "        \n",
    "        if round == 4:\n",
    "            print(\"No choice left for user, GAME OVER!\")\n",
    "            \n",
    "    board_condition(board)"
   ]
  },
  {
   "cell_type": "code",
   "execution_count": 2,
   "metadata": {},
   "outputs": [
    {
     "name": "stdout",
     "output_type": "stream",
     "text": [
      "0 0 0 0 0\n",
      "0 0 0 0 0\n",
      "0 0 0 0 0\n",
      "0 0 0 0 0\n",
      "0 0 0 0 0\n",
      "Enter row value:0\n",
      "Ener column value:0\n",
      "X 0 0 0 0\n",
      "0 0 0 0 0\n",
      "0 0 0 0 0\n",
      "0 0 0 0 0\n",
      "0 0 0 0 0\n",
      "Incorectly guessed!\n",
      "Round left: 4\n",
      "Enter row value:1\n",
      "Ener column value:1\n",
      "X 0 0 0 0\n",
      "0 X 0 0 0\n",
      "0 0 0 0 0\n",
      "0 0 0 0 0\n",
      "0 0 0 0 0\n",
      "Incorectly guessed!\n",
      "Round left: 3\n",
      "Enter row value:2\n",
      "Ener column value:2\n",
      "X 0 0 0 0\n",
      "0 X 0 0 0\n",
      "0 0 X 0 0\n",
      "0 0 0 0 0\n",
      "0 0 0 0 0\n",
      "Incorectly guessed!\n",
      "Round left: 2\n",
      "Enter row value:3\n",
      "Ener column value:3\n",
      "X 0 0 0 0\n",
      "0 X 0 0 0\n",
      "0 0 X 0 0\n",
      "0 0 0 X 0\n",
      "0 0 0 0 0\n",
      "Incorectly guessed!\n",
      "Round left: 1\n",
      "Enter row value:4\n",
      "Ener column value:4\n",
      "X 0 0 0 0\n",
      "0 X 0 0 0\n",
      "0 0 X 0 0\n",
      "0 0 0 X 0\n",
      "0 0 0 0 X\n",
      "Incorectly guessed!\n",
      "Round left: 0\n",
      "No choice left for user, GAME OVER!\n",
      "X 0 0 0 0\n",
      "0 X 0 0 0\n",
      "0 0 X 0 0\n",
      "0 0 0 X 0\n",
      "0 0 0 0 X\n"
     ]
    }
   ],
   "source": [
    "battle_ship_game(board)"
   ]
  },
  {
   "cell_type": "code",
   "execution_count": 11,
   "metadata": {},
   "outputs": [],
   "source": [
    "#61 Decimal to binary converter:\n",
    "\n",
    "def binary_converter(decimal):\n",
    "\n",
    "    value = \"\"\n",
    "    \n",
    "    while decimal > 1:\n",
    "        value = value + str(decimal%2)\n",
    "        decimal = decimal//2\n",
    "    \n",
    "    if decimal <= 1:\n",
    "        value = value + str(decimal%2)\n",
    "    \n",
    "    return value[::-1]"
   ]
  },
  {
   "cell_type": "code",
   "execution_count": 12,
   "metadata": {},
   "outputs": [
    {
     "data": {
      "text/plain": [
       "'101'"
      ]
     },
     "execution_count": 12,
     "metadata": {},
     "output_type": "execute_result"
    }
   ],
   "source": [
    "binary_converter(5)"
   ]
  },
  {
   "cell_type": "code",
   "execution_count": 1,
   "metadata": {},
   "outputs": [],
   "source": [
    "#62 Basic Twitter Design:\n",
    "\n",
    "class twitter(object):\n",
    "    \n",
    "    def __init__(self):\n",
    "        \n",
    "        self.tweet = {}\n",
    "        \n",
    "    def post_tweet(self,userid,tweet):\n",
    "        if userid not in self.tweet:\n",
    "            self.tweet[userid] = []\n",
    "            self.tweet[userid].insert(0,tweet)\n",
    "        else:\n",
    "            self.tweet[userid].insert(0,tweet)\n",
    "    \n",
    "    def getNewsFeed(self,userid):\n",
    "        return self.tweet[userid]\n",
    "    \n",
    "    def follow(self,followerid,followeeid):\n",
    "        for i in self.tweet[followeeid][::-1]:\n",
    "            print(i)\n",
    "            self.tweet[followerid].insert(0,i)\n",
    "            \n",
    "    def unfollow(self,followerid,followeeid):\n",
    "        for i in self.tweet[followeeid]:\n",
    "            self.tweet[followerid].remove(i)\n",
    "     "
   ]
  },
  {
   "cell_type": "code",
   "execution_count": 27,
   "metadata": {},
   "outputs": [
    {
     "data": {
      "text/plain": [
       "[15, 10]"
      ]
     },
     "execution_count": 27,
     "metadata": {},
     "output_type": "execute_result"
    }
   ],
   "source": [
    "t = twitter()\n",
    "t.post_tweet(1,10)\n",
    "t.post_tweet(1,15)\n",
    "t.post_tweet(2,20)\n",
    "t.post_tweet(2,25)\n",
    "t.getNewsFeed(1)"
   ]
  },
  {
   "cell_type": "code",
   "execution_count": 38,
   "metadata": {},
   "outputs": [],
   "source": [
    "#63 sum range using class:\n",
    "\n",
    "class sum_range(object):\n",
    "    \n",
    "    def __init__(self,number):\n",
    "        self.num = number\n",
    "    \n",
    "    def update_values(self,pos,number):\n",
    "        self.num[pos] = number\n",
    "        \n",
    "    def sum_range_values(self,start,end):\n",
    "        total = 0\n",
    "        for i in range(start,end+1):\n",
    "            total = total + self.num[i]\n",
    "        return total"
   ]
  },
  {
   "cell_type": "code",
   "execution_count": 39,
   "metadata": {},
   "outputs": [
    {
     "data": {
      "text/plain": [
       "10"
      ]
     },
     "execution_count": 39,
     "metadata": {},
     "output_type": "execute_result"
    }
   ],
   "source": [
    "c = sum_range([1,2,3])\n",
    "c.update_values(0,5)\n",
    "c.sum_range_values(0,2)"
   ]
  },
  {
   "cell_type": "code",
   "execution_count": 48,
   "metadata": {},
   "outputs": [
    {
     "data": {
      "text/plain": [
       "'HELLO WORLD!'"
      ]
     },
     "execution_count": 48,
     "metadata": {},
     "output_type": "execute_result"
    }
   ],
   "source": [
    "#64 Decorator example:\n",
    "\n",
    "def converter(function):\n",
    "    \n",
    "    def wrapper():\n",
    "        func = function()\n",
    "        make_uppercase = func.upper()\n",
    "        return make_uppercase\n",
    "    \n",
    "    return wrapper\n",
    "\n",
    "@converter\n",
    "def lower_case():\n",
    "    return \"Hello World!\"\n",
    "\n",
    "lower_case()"
   ]
  },
  {
   "cell_type": "code",
   "execution_count": 54,
   "metadata": {},
   "outputs": [],
   "source": [
    "#65 Bank account creation using class:\n",
    "\n",
    "class Account():\n",
    "    \n",
    "    def __init__(self,owner,balance):\n",
    "        self.owner = owner\n",
    "        self.balance = balance\n",
    "        \n",
    "    def deposit(self,amount):\n",
    "        \n",
    "        self.amount = amount\n",
    "        self.balance = self.balance + self.amount\n",
    "        \n",
    "    def withdraw(self,withdraw_amount):\n",
    "        \n",
    "        self.withdraw_amount = withdraw_amount\n",
    "        \n",
    "        if self.balance >= self.withdraw_amount:\n",
    "            self.balance = self.balance - self.withdraw_amount\n",
    "            print(\"Withdraw is completed!\")\n",
    "        else:\n",
    "            print(\"Fund is not available\")"
   ]
  },
  {
   "cell_type": "code",
   "execution_count": 56,
   "metadata": {},
   "outputs": [
    {
     "name": "stdout",
     "output_type": "stream",
     "text": [
      "150\n",
      "Fund is not available\n"
     ]
    }
   ],
   "source": [
    "acct1 = Account('Jose',100)\n",
    "acct1.deposit(50)\n",
    "print(acct1.balance)\n",
    "acct1.withdraw(500)"
   ]
  },
  {
   "cell_type": "code",
   "execution_count": 57,
   "metadata": {},
   "outputs": [],
   "source": [
    "#66 Factorial using recursion:\n",
    "\n",
    "def fact(n):\n",
    "    \n",
    "    if n == 0 or n == 1:\n",
    "        return n\n",
    "    \n",
    "    else:\n",
    "        return n*fact(n-1) "
   ]
  },
  {
   "cell_type": "code",
   "execution_count": 58,
   "metadata": {},
   "outputs": [
    {
     "data": {
      "text/plain": [
       "120"
      ]
     },
     "execution_count": 58,
     "metadata": {},
     "output_type": "execute_result"
    }
   ],
   "source": [
    "fact(5)"
   ]
  },
  {
   "cell_type": "code",
   "execution_count": 59,
   "metadata": {},
   "outputs": [
    {
     "name": "stdout",
     "output_type": "stream",
     "text": [
      "['/Users/mitalukd', '/opt/anaconda3/lib/python37.zip', '/opt/anaconda3/lib/python3.7', '/opt/anaconda3/lib/python3.7/lib-dynload', '', '/opt/anaconda3/lib/python3.7/site-packages', '/opt/anaconda3/lib/python3.7/site-packages/aeosa', '/opt/anaconda3/lib/python3.7/site-packages/IPython/extensions', '/Users/mitalukd/.ipython', '/Users/mitalukd/Desktop']\n",
      "/Users/mitalukd\n"
     ]
    }
   ],
   "source": [
    "#67 Create and write file in shell:\n",
    "\n",
    "import os \n",
    "import sys\n",
    "os.system(\"touch /Users/mitalukd/Desktop/mitun1.txt\")\n",
    "sys.path.append(\"/Users/mitalukd/Desktop\")\n",
    "new_directory =  \"/Users/mitalukd/Desktop\"\n",
    "with open(os.path.join(new_directory,\"mitun1.txt\"),\"w\") as f:\n",
    "    f.write(\"Hello World!\")\n",
    "print(sys.path)\n",
    "print(os.getcwd())"
   ]
  },
  {
   "cell_type": "code",
   "execution_count": 67,
   "metadata": {},
   "outputs": [
    {
     "data": {
      "text/plain": [
       "''"
      ]
     },
     "execution_count": 67,
     "metadata": {},
     "output_type": "execute_result"
    }
   ],
   "source": [
    "string = \"b\"\n",
    "string[1:]"
   ]
  },
  {
   "cell_type": "code",
   "execution_count": 12,
   "metadata": {},
   "outputs": [
    {
     "data": {
      "text/plain": [
       "[('key1', 'v'), ('key2', 'a')]"
      ]
     },
     "execution_count": 12,
     "metadata": {},
     "output_type": "execute_result"
    }
   ],
   "source": [
    "list(zip([\"key1\", \"key2\"], \"value\"))"
   ]
  },
  {
   "cell_type": "code",
   "execution_count": 15,
   "metadata": {},
   "outputs": [
    {
     "name": "stdout",
     "output_type": "stream",
     "text": [
      "{'key1': {'key1': 'value1', 'key2': 'value2'}, 'key2': {'key1': 'value3', 'key2': 'value4'}}\n"
     ]
    }
   ],
   "source": [
    "#nested dictionary\n",
    "with open('file.txt') as f:\n",
    "    d = {}\n",
    "    for line in f:\n",
    "        key, *value = line.split()\n",
    "        d[key] = dict(zip(['key1', 'key2'], value))\n",
    "\n",
    "print(d)"
   ]
  },
  {
   "cell_type": "code",
   "execution_count": 72,
   "metadata": {},
   "outputs": [],
   "source": [
    "#68 Longest substring match:\n",
    "\n",
    "def longestsubstring(s):\n",
    "    \n",
    "    new_s = \"\"\n",
    "    max_l = 0\n",
    "    \n",
    "    for i in s:\n",
    "        \n",
    "        if i not in new_s:\n",
    "            new_s = new_s + i\n",
    "            max_l = max(max_l,len(new_s))\n",
    "        \n",
    "        else:\n",
    "            while i in new_s:\n",
    "                new_s = new_s[1:]\n",
    "            new_s = new_s + i\n",
    "            max_l = max(max_l,len(new_s))\n",
    "    return max_l"
   ]
  },
  {
   "cell_type": "code",
   "execution_count": 73,
   "metadata": {},
   "outputs": [
    {
     "data": {
      "text/plain": [
       "3"
      ]
     },
     "execution_count": 73,
     "metadata": {},
     "output_type": "execute_result"
    }
   ],
   "source": [
    "longestsubstring(\"bbca\")"
   ]
  },
  {
   "cell_type": "code",
   "execution_count": 76,
   "metadata": {},
   "outputs": [],
   "source": [
    "#69 fibonacci series without recursion\n",
    "\n",
    "def fib(n):\n",
    "    \n",
    "    a = 1\n",
    "    b = 1\n",
    "    print(a)\n",
    "    \n",
    "    for i in range(n+1):\n",
    "        a,b = b, a+b\n",
    "        print(a)"
   ]
  },
  {
   "cell_type": "code",
   "execution_count": 78,
   "metadata": {},
   "outputs": [
    {
     "name": "stdout",
     "output_type": "stream",
     "text": [
      "1\n",
      "1\n",
      "2\n",
      "3\n",
      "5\n",
      "8\n"
     ]
    }
   ],
   "source": [
    "fib(4)"
   ]
  },
  {
   "cell_type": "code",
   "execution_count": 1,
   "metadata": {},
   "outputs": [
    {
     "name": "stdout",
     "output_type": "stream",
     "text": [
      "IP address is valid\n"
     ]
    }
   ],
   "source": [
    "#70 Create a decorator which will return ip address is valid or not\n",
    "\n",
    "value = 0\n",
    "def decorator_list(func):\n",
    "    def inner(value):\n",
    "        value1 = func(value)\n",
    "        import ipaddress\n",
    "        try:\n",
    "            ip = ipaddress.ip_address(value1)\n",
    "            print(\"IP address is valid\")\n",
    "            \n",
    "        except:\n",
    "            print(\"IP address is not valid\")\n",
    "    return inner\n",
    "\n",
    "    \n",
    "@decorator_list\n",
    "def valid_ip(ip1):\n",
    "    return ip1\n",
    "\n",
    "valid_ip(\"10.10.10.100\")"
   ]
  },
  {
   "cell_type": "code",
   "execution_count": null,
   "metadata": {},
   "outputs": [],
   "source": [
    "#72 Find-out the k highest order element from the list\n",
    "\n",
    "#lst = [5,4,7,8,8,9,0,1,2,3], k = 2\n",
    "\n",
    "# it should return 8"
   ]
  },
  {
   "cell_type": "code",
   "execution_count": null,
   "metadata": {},
   "outputs": [],
   "source": [
    "# Create a library which will create a nested dictionary from a given file where file contains below:\n",
    "\n",
    "#ip.txt\n",
    "# 10.10.10.10 Windows Windows10\n",
    "#10.10.10.11 Ubuntu 2.78\n",
    "#10.10.10.12 MacOS 11.11\n",
    "#10.10.10.14 RedHat 8.888"
   ]
  },
  {
   "cell_type": "code",
   "execution_count": 30,
   "metadata": {},
   "outputs": [],
   "source": [
    "#71 Find-out the first occurance of anagram from the list\n",
    "\n",
    "#lst = [\"abc\",\"bca\",\"ing\",\"ngi\",\"cab\"]\n",
    "\n",
    "def first_occurance_anagram(lst):\n",
    "    \n",
    "    \n",
    "    sorted_lst = []\n",
    "    \n",
    "    sorted_i = []\n",
    "    \n",
    "    for i in range(len(lst)):\n",
    "        \n",
    "        \n",
    "        for j in range(i+1,len(lst)):\n",
    "            \n",
    "            \n",
    "            if \"\".join(sorted(lst[i])) == \"\".join(sorted(lst[j])) and \"\".join(sorted(lst[j])) not in sorted_i:\n",
    "                \n",
    "                sorted_lst.append(lst[i])\n",
    "                sorted_i.append(\"\".join(sorted(lst[i])))\n",
    "    \n",
    "    print(sorted_i)\n",
    "    return sorted_lst    "
   ]
  },
  {
   "cell_type": "code",
   "execution_count": 31,
   "metadata": {},
   "outputs": [
    {
     "name": "stdout",
     "output_type": "stream",
     "text": [
      "['abc', 'gin']\n"
     ]
    },
    {
     "data": {
      "text/plain": [
       "['bca', 'ing']"
      ]
     },
     "execution_count": 31,
     "metadata": {},
     "output_type": "execute_result"
    }
   ],
   "source": [
    "first_occurance_anagram([\"bca\",\"abc\",\"ing\",\"ngi\",\"cab\"])"
   ]
  },
  {
   "cell_type": "code",
   "execution_count": 1,
   "metadata": {},
   "outputs": [],
   "source": [
    "#72 Maximum sum subarray:\n",
    "\n",
    "def maximum_sum_subarray(arr):\n",
    "    \n",
    "    curr_sum = 0\n",
    "    max_so_far = arr[0]\n",
    "    \n",
    "    st=0;pos=0;end=0\n",
    "    size=len(arr)\n",
    "    \n",
    "    for i in range(0,size):\n",
    "        curr_sum = curr_sum + arr[i]\n",
    "        \n",
    "        if max_so_far < curr_sum:\n",
    "            max_so_far = curr_sum\n",
    "            st = pos\n",
    "            end = i\n",
    "        \n",
    "        if curr_sum < 0:\n",
    "            curr_sum = 0\n",
    "            pos = i + 1\n",
    "    \n",
    "    print(\"Maximum sum subarray: \", max_so_far)\n",
    "    print(\"starting position of the window: \", st)\n",
    "    print(\"end position of the window: \", end)"
   ]
  },
  {
   "cell_type": "code",
   "execution_count": 2,
   "metadata": {},
   "outputs": [
    {
     "name": "stdout",
     "output_type": "stream",
     "text": [
      "Maximum sum subarray:  7\n",
      "starting position of the window:  3\n",
      "end position of the window:  8\n"
     ]
    }
   ],
   "source": [
    "maximum_sum_subarray([4,-3,-2,2,3,1,-2,-3,6,-6,-4,2,1])"
   ]
  },
  {
   "cell_type": "code",
   "execution_count": 21,
   "metadata": {},
   "outputs": [
    {
     "name": "stdout",
     "output_type": "stream",
     "text": [
      "hello\n"
     ]
    }
   ],
   "source": [
    "lst = [1,2,3]\n",
    "\n",
    "if type(lst) == list:\n",
    "    print(\"hello\")"
   ]
  },
  {
   "cell_type": "code",
   "execution_count": null,
   "metadata": {},
   "outputs": [],
   "source": []
  }
 ],
 "metadata": {
  "kernelspec": {
   "display_name": "Python 3 (ipykernel)",
   "language": "python",
   "name": "python3"
  },
  "language_info": {
   "codemirror_mode": {
    "name": "ipython",
    "version": 3
   },
   "file_extension": ".py",
   "mimetype": "text/x-python",
   "name": "python",
   "nbconvert_exporter": "python",
   "pygments_lexer": "ipython3",
   "version": "3.9.16"
  }
 },
 "nbformat": 4,
 "nbformat_minor": 2
}
