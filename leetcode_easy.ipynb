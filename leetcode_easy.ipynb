{
 "cells": [
  {
   "cell_type": "code",
   "execution_count": 11,
   "id": "063a8850",
   "metadata": {},
   "outputs": [],
   "source": [
    "#TwoSum\n",
    "\n",
    "def TwoSum(nums: list[int], target: int) -> list[int]:\n",
    "    \n",
    "    d = {}\n",
    "    \n",
    "    for index, value in enumerate(nums):\n",
    "        r = target - value\n",
    "        \n",
    "        if r in d: return [d[r], index]\n",
    "        d[value] = index\n",
    "            "
   ]
  },
  {
   "cell_type": "code",
   "execution_count": 12,
   "id": "e9d8272c",
   "metadata": {},
   "outputs": [
    {
     "data": {
      "text/plain": [
       "[0, 1]"
      ]
     },
     "execution_count": 12,
     "metadata": {},
     "output_type": "execute_result"
    }
   ],
   "source": [
    "TwoSum([2,7,11,15],9)"
   ]
  },
  {
   "cell_type": "code",
   "execution_count": 16,
   "id": "0b1869c0",
   "metadata": {},
   "outputs": [],
   "source": [
    "#Roman to Integer\n",
    "\n",
    "def RomanToInteger(s:str) -> int:\n",
    "    translations = {\n",
    "        \"I\": 1,\n",
    "        \"V\": 5,\n",
    "        \"X\": 10,\n",
    "        \"L\": 50,\n",
    "        \"C\": 100,\n",
    "        \"D\": 500,\n",
    "        \"M\": 1000\n",
    "    }\n",
    "    \n",
    "    number = 0\n",
    "    \n",
    "    s = s.replace(\"IV\", \"IIII\").replace(\"IX\", \"VIIII\")\n",
    "    s = s.replace(\"XL\", \"XXXX\").replace(\"XC\", \"LXXXX\")\n",
    "    s = s.replace(\"CD\", \"CCCC\").replace(\"CM\", \"DCCCC\")\n",
    "    \n",
    "    for char in s:\n",
    "        number +=translations[char]\n",
    "    return number"
   ]
  },
  {
   "cell_type": "code",
   "execution_count": 17,
   "id": "3feddc0b",
   "metadata": {},
   "outputs": [
    {
     "data": {
      "text/plain": [
       "58"
      ]
     },
     "execution_count": 17,
     "metadata": {},
     "output_type": "execute_result"
    }
   ],
   "source": [
    "RomanToInteger(\"LVIII\")"
   ]
  },
  {
   "cell_type": "code",
   "execution_count": 5,
   "id": "74917e52",
   "metadata": {},
   "outputs": [],
   "source": [
    "#Longest common prefix:\n",
    "\n",
    "def common_prefix(lst_of_str):\n",
    "    \n",
    "    if not lst_of_str:\n",
    "        return \"\"\n",
    "    \n",
    "    shortest = min(lst_of_str, key = len)\n",
    "    \n",
    "    for index, value in enumerate(shortest):\n",
    "        for word in lst_of_str:\n",
    "            if word[index] != value:\n",
    "                return shortest[:index]\n",
    "    return shortest"
   ]
  },
  {
   "cell_type": "code",
   "execution_count": 6,
   "id": "227a1f51",
   "metadata": {},
   "outputs": [
    {
     "data": {
      "text/plain": [
       "'fl'"
      ]
     },
     "execution_count": 6,
     "metadata": {},
     "output_type": "execute_result"
    }
   ],
   "source": [
    "common_prefix([\"flower\",\"flow\",\"flight\"])\n"
   ]
  },
  {
   "cell_type": "code",
   "execution_count": 17,
   "id": "18611b6c",
   "metadata": {},
   "outputs": [],
   "source": [
    "#Valid Parenthesis:\n",
    "\n",
    "def valid_parenthesis(s):\n",
    "    \n",
    "    stack = []\n",
    "    \n",
    "    dictionary = {\"]\":\"[\",\")\":\"(\",\"}\":\"{\"}\n",
    "    \n",
    "    \n",
    "    for value in s:\n",
    "        \n",
    "        if value in dictionary.values():\n",
    "            stack.append(value)\n",
    "            \n",
    "        elif value in dictionary.keys():\n",
    "            \n",
    "            if stack == [] or dictionary[value] != stack.pop():\n",
    "                return False\n",
    "        \n",
    "        else:\n",
    "            return False\n",
    "    \n",
    "    return stack == []"
   ]
  },
  {
   "cell_type": "code",
   "execution_count": 18,
   "id": "f6c9a914",
   "metadata": {},
   "outputs": [
    {
     "data": {
      "text/plain": [
       "True"
      ]
     },
     "execution_count": 18,
     "metadata": {},
     "output_type": "execute_result"
    }
   ],
   "source": [
    "valid_parenthesis(\"()[]{}\")"
   ]
  },
  {
   "cell_type": "code",
   "execution_count": 19,
   "id": "d3e85c78",
   "metadata": {},
   "outputs": [],
   "source": [
    "#Skipping all linked list questions\n"
   ]
  },
  {
   "cell_type": "code",
   "execution_count": 4,
   "id": "846ee8c6",
   "metadata": {},
   "outputs": [],
   "source": [
    "#Remove duplicates from sorted array:\n",
    "\n",
    "def remove_duplicates(nums):\n",
    "    \n",
    "    x = 1\n",
    "    \n",
    "    for i in range(len(nums)-1):\n",
    "        if nums[i] != nums[i+1]:\n",
    "            nums[x] = nums[i+1]\n",
    "            x += 1\n",
    "    return x"
   ]
  },
  {
   "cell_type": "code",
   "execution_count": 5,
   "id": "e9b56ade",
   "metadata": {},
   "outputs": [
    {
     "data": {
      "text/plain": [
       "4"
      ]
     },
     "execution_count": 5,
     "metadata": {},
     "output_type": "execute_result"
    }
   ],
   "source": [
    "remove_duplicates([1,1,1,2,3,3,3,4])"
   ]
  },
  {
   "cell_type": "code",
   "execution_count": 38,
   "id": "466d8e42",
   "metadata": {},
   "outputs": [],
   "source": [
    "#Binary search:\n",
    "\n",
    "def bin_search(lst,item):\n",
    "    \n",
    "    import math\n",
    "    first_index = 0\n",
    "    \n",
    "    last_index = len(lst) - 1\n",
    "    \n",
    "    found = False\n",
    "    \n",
    "    while first_index < last_index and not found:\n",
    "        \n",
    "        mid = math.ceil((first_index + last_index)/2)\n",
    "        \n",
    "        if lst[mid] == item:\n",
    "            \n",
    "            found = True\n",
    "            \n",
    "        else:\n",
    "            if item < lst[mid]:\n",
    "                last_index = mid -1\n",
    "            \n",
    "            else:\n",
    "                first_index = mid + 1\n",
    "                \n",
    "    print(found)"
   ]
  },
  {
   "cell_type": "code",
   "execution_count": 39,
   "id": "1ddb33a9",
   "metadata": {},
   "outputs": [
    {
     "name": "stdout",
     "output_type": "stream",
     "text": [
      "True\n"
     ]
    }
   ],
   "source": [
    "bin_search([1,2,3,4,5],5)"
   ]
  },
  {
   "cell_type": "code",
   "execution_count": 2,
   "id": "78d43921",
   "metadata": {},
   "outputs": [],
   "source": [
    "def plusOne(lst_of_digits):\n",
    "    \n",
    "    num = 0\n",
    "    \n",
    "    for i in range(len(lst_of_digits)):\n",
    "        num += lst_of_digits[i] * pow(10,len(lst_of_digits)-1-i)\n",
    "        print(num)\n",
    "    \n",
    "    return [int(i) for i in str(num+1)]"
   ]
  },
  {
   "cell_type": "code",
   "execution_count": 4,
   "id": "0eb23d4e",
   "metadata": {},
   "outputs": [
    {
     "name": "stdout",
     "output_type": "stream",
     "text": [
      "100\n",
      "120\n",
      "123\n"
     ]
    },
    {
     "data": {
      "text/plain": [
       "[1, 2, 4]"
      ]
     },
     "execution_count": 4,
     "metadata": {},
     "output_type": "execute_result"
    }
   ],
   "source": [
    "plusOne([1,2,3])"
   ]
  },
  {
   "cell_type": "code",
   "execution_count": 13,
   "id": "b2f4df89",
   "metadata": {},
   "outputs": [],
   "source": [
    "#sqrt(x):\n",
    "\n",
    "def sqrt(x):\n",
    "    \n",
    "    lo, hi = 0, x\n",
    "    \n",
    "    while lo <= hi:\n",
    "        mid = (lo+hi)//2\n",
    "        \n",
    "        if mid*mid < x:\n",
    "            hi = mid -1\n",
    "            \n",
    "        elif mid*mid > x:\n",
    "            lo = mid + 1\n",
    "        \n",
    "        else:\n",
    "            return mid\n",
    "        \n",
    "    return hi"
   ]
  },
  {
   "cell_type": "code",
   "execution_count": 14,
   "id": "fa66b731",
   "metadata": {},
   "outputs": [
    {
     "data": {
      "text/plain": [
       "2"
      ]
     },
     "execution_count": 14,
     "metadata": {},
     "output_type": "execute_result"
    }
   ],
   "source": [
    "sqrt(4)"
   ]
  },
  {
   "cell_type": "code",
   "execution_count": 15,
   "id": "28e7e39b",
   "metadata": {},
   "outputs": [],
   "source": [
    "def climbStairs(n):\n",
    "    \n",
    "    if n == 1:\n",
    "        return 1\n",
    "    \n",
    "    if n == 2:\n",
    "        return 2\n",
    "    \n",
    "    return climbStairs(n-1) +  climbStairs(n-2)"
   ]
  },
  {
   "cell_type": "code",
   "execution_count": 16,
   "id": "6ce0febc",
   "metadata": {},
   "outputs": [
    {
     "data": {
      "text/plain": [
       "3"
      ]
     },
     "execution_count": 16,
     "metadata": {},
     "output_type": "execute_result"
    }
   ],
   "source": [
    "climbStairs(3)"
   ]
  },
  {
   "cell_type": "code",
   "execution_count": 22,
   "id": "451f5bd4",
   "metadata": {},
   "outputs": [],
   "source": [
    "#FizzBuzz:\n",
    "\n",
    "def FizzBuzz(n: int):\n",
    "    \n",
    "    return [\"Fizz\"*(value % 3 == 0) + \"Buzz\"*(value % 5 == 0) or f\"{value}\" for value in range(1, n+1)]"
   ]
  },
  {
   "cell_type": "code",
   "execution_count": 23,
   "id": "e6d302c2",
   "metadata": {},
   "outputs": [
    {
     "data": {
      "text/plain": [
       "['1', '2', 'Fizz', '4', 'Buzz', 'Fizz', '7', '8', 'Fizz', 'Buzz']"
      ]
     },
     "execution_count": 23,
     "metadata": {},
     "output_type": "execute_result"
    }
   ],
   "source": [
    "FizzBuzz(10)"
   ]
  },
  {
   "cell_type": "code",
   "execution_count": 24,
   "id": "d0692690",
   "metadata": {},
   "outputs": [],
   "source": [
    "#First Unique character in a string\n",
    "\n",
    "def uniqueString(string):\n",
    "    \n",
    "    alphabet = \"abcdefghijklmnopqrstuvwxyz\"\n",
    "    \n",
    "    index_letter = [string.index(letter) for letter in alphabet if string.count(letter) == 1]\n",
    "    \n",
    "    return min(index_letter) if len(index_letter) > 1 else -1\n",
    "    "
   ]
  },
  {
   "cell_type": "code",
   "execution_count": 25,
   "id": "21d501eb",
   "metadata": {},
   "outputs": [
    {
     "data": {
      "text/plain": [
       "0"
      ]
     },
     "execution_count": 25,
     "metadata": {},
     "output_type": "execute_result"
    }
   ],
   "source": [
    "uniqueString(\"leetcode\")"
   ]
  },
  {
   "cell_type": "code",
   "execution_count": 4,
   "id": "0dd12b54",
   "metadata": {},
   "outputs": [
    {
     "name": "stdout",
     "output_type": "stream",
     "text": [
      "9\n"
     ]
    }
   ],
   "source": [
    "#Lambda function:\n",
    "print((lambda x,y: x + y)(4,5))"
   ]
  },
  {
   "cell_type": "code",
   "execution_count": 9,
   "id": "7a1a2f73",
   "metadata": {},
   "outputs": [],
   "source": [
    "#Intersection of two arrays:\n",
    "\n",
    "def intersection(nums1, nums2):\n",
    "    \n",
    "    counts = {}\n",
    "    res = []\n",
    "    \n",
    "    for num in nums1:\n",
    "        counts[num] = counts.get(num,0) + 1\n",
    "        \n",
    "    for num in nums2:\n",
    "        \n",
    "        if num in counts and counts[num] > 0:\n",
    "            res.append(num)\n",
    "            counts[num] -= 1\n",
    "            \n",
    "    return res"
   ]
  },
  {
   "cell_type": "code",
   "execution_count": 10,
   "id": "8ce250df",
   "metadata": {},
   "outputs": [
    {
     "data": {
      "text/plain": [
       "[2, 2]"
      ]
     },
     "execution_count": 10,
     "metadata": {},
     "output_type": "execute_result"
    }
   ],
   "source": [
    "intersection([1,2,2,1], [2,2])"
   ]
  },
  {
   "cell_type": "code",
   "execution_count": 12,
   "id": "58b81883",
   "metadata": {},
   "outputs": [],
   "source": [
    "#ReverseString:\n",
    "\n",
    "def reverseString(string):\n",
    "    \n",
    "    r = list(string)\n",
    "    \n",
    "    i, j = 0, len(r) - 1\n",
    "    \n",
    "    while i < j:\n",
    "        \n",
    "        r[i], r[j] = r[j], r[i]\n",
    "        \n",
    "        i += 1\n",
    "        j -= 1\n",
    "        \n",
    "    return \"\".join(r) \n",
    "    "
   ]
  },
  {
   "cell_type": "code",
   "execution_count": 14,
   "id": "f13b3f20",
   "metadata": {},
   "outputs": [
    {
     "data": {
      "text/plain": [
       "'olleh'"
      ]
     },
     "execution_count": 14,
     "metadata": {},
     "output_type": "execute_result"
    }
   ],
   "source": [
    "reverseString(\"hello\")"
   ]
  },
  {
   "cell_type": "code",
   "execution_count": 15,
   "id": "bf29ef37",
   "metadata": {},
   "outputs": [],
   "source": [
    "def isPowerOfThree(num):\n",
    "    \n",
    "    return num > 0 == 3**19 % num"
   ]
  },
  {
   "cell_type": "code",
   "execution_count": 16,
   "id": "f89b7b85",
   "metadata": {},
   "outputs": [
    {
     "data": {
      "text/plain": [
       "True"
      ]
     },
     "execution_count": 16,
     "metadata": {},
     "output_type": "execute_result"
    }
   ],
   "source": [
    "isPowerOfThree(27)"
   ]
  },
  {
   "cell_type": "code",
   "execution_count": 17,
   "id": "16e64cb2",
   "metadata": {},
   "outputs": [],
   "source": [
    "#Moving zeros:\n",
    "\n",
    "def MovingZeros(lst_of_num):\n",
    "    \n",
    "    slow = 0\n",
    "    \n",
    "    for fast in range(len(lst_of_num)):\n",
    "        \n",
    "        if lst_of_num[fast] != 0 and lst_of_num[slow] == 0:\n",
    "            \n",
    "            lst_of_num[fast], lst_of_num[slow] = lst_of_num[slow], lst_of_num[fast]\n",
    "            \n",
    "        if lst_of_num[slow] != 0:\n",
    "            \n",
    "            slow += 1\n",
    "            \n",
    "    return lst_of_num"
   ]
  },
  {
   "cell_type": "code",
   "execution_count": 19,
   "id": "be09f7f8",
   "metadata": {},
   "outputs": [
    {
     "data": {
      "text/plain": [
       "[1, 3, 12, 0, 0]"
      ]
     },
     "execution_count": 19,
     "metadata": {},
     "output_type": "execute_result"
    }
   ],
   "source": [
    "MovingZeros([0,0,1,3,12])"
   ]
  },
  {
   "cell_type": "code",
   "execution_count": 24,
   "id": "1c4fe064",
   "metadata": {},
   "outputs": [],
   "source": [
    "#Missing numbers:\n",
    "\n",
    "def missingNumber(num):\n",
    "    \n",
    "    n = len(num)\n",
    "    \n",
    "    return (n*(n+1))//2 - sum(num)"
   ]
  },
  {
   "cell_type": "code",
   "execution_count": 25,
   "id": "4ca573ba",
   "metadata": {},
   "outputs": [
    {
     "data": {
      "text/plain": [
       "2"
      ]
     },
     "execution_count": 25,
     "metadata": {},
     "output_type": "execute_result"
    }
   ],
   "source": [
    "missingNumber([3,0,1])"
   ]
  },
  {
   "cell_type": "code",
   "execution_count": 1,
   "id": "18bbc334",
   "metadata": {},
   "outputs": [],
   "source": [
    "#Anagram checking:\n",
    "\n",
    "def isAnagram(word1, word2):\n",
    "    \n",
    "    dict1, dict2 = {}, {}\n",
    "    \n",
    "    for item in word1:\n",
    "        dict1[item] = dict1.get(item,0) + 1\n",
    "    \n",
    "    for item in word2:\n",
    "        dict2[item] = dict2.get(item,0) + 1\n",
    "        \n",
    "    return dict1 == dict2"
   ]
  },
  {
   "cell_type": "code",
   "execution_count": 2,
   "id": "d8d98437",
   "metadata": {},
   "outputs": [
    {
     "data": {
      "text/plain": [
       "True"
      ]
     },
     "execution_count": 2,
     "metadata": {},
     "output_type": "execute_result"
    }
   ],
   "source": [
    "isAnagram(\"anagram\",\"margana\")"
   ]
  },
  {
   "cell_type": "code",
   "execution_count": 6,
   "id": "09b6756c",
   "metadata": {},
   "outputs": [],
   "source": [
    "#Happy number:\n",
    "\n",
    "def happyNumber(num):\n",
    "    \n",
    "    mem = set()\n",
    "    \n",
    "    while num != 1:\n",
    "        \n",
    "        num = sum([int(i)**2 for i in str(num)])\n",
    "        \n",
    "        if num in mem:\n",
    "            \n",
    "            return False\n",
    "        else:\n",
    "            mem.add(num)\n",
    "    \n",
    "    else:\n",
    "        return True"
   ]
  },
  {
   "cell_type": "code",
   "execution_count": 7,
   "id": "ff1d7653",
   "metadata": {},
   "outputs": [
    {
     "data": {
      "text/plain": [
       "True"
      ]
     },
     "execution_count": 7,
     "metadata": {},
     "output_type": "execute_result"
    }
   ],
   "source": [
    "happyNumber(82)"
   ]
  },
  {
   "cell_type": "code",
   "execution_count": 1,
   "id": "67f45e45",
   "metadata": {},
   "outputs": [
    {
     "name": "stdout",
     "output_type": "stream",
     "text": [
      "Rn[p[SD$udpW`%\n"
     ]
    }
   ],
   "source": [
    "#Python password manager:\n",
    "\n",
    "import secrets\n",
    "import string\n",
    "\n",
    "characters = string.ascii_letters + string.digits + string.punctuation\n",
    "\n",
    "password = \"\".join(secrets.choice(characters) for i in range(14))\n",
    "\n",
    "print(password)"
   ]
  },
  {
   "cell_type": "code",
   "execution_count": 9,
   "id": "40cce3e9",
   "metadata": {},
   "outputs": [],
   "source": [
    "def excelColumn(columnTitle: str) -> int:\n",
    "    \n",
    "    ans, pos = 0, 0\n",
    "    \n",
    "    for letter in reversed(columnTitle):\n",
    "        \n",
    "        digit = ord(letter) - 64\n",
    "        \n",
    "        ans += digit*26**pos\n",
    "        \n",
    "        pos += 1\n",
    "        \n",
    "    return ans\n",
    "    "
   ]
  },
  {
   "cell_type": "code",
   "execution_count": 10,
   "id": "15392d1c",
   "metadata": {},
   "outputs": [
    {
     "data": {
      "text/plain": [
       "28"
      ]
     },
     "execution_count": 10,
     "metadata": {},
     "output_type": "execute_result"
    }
   ],
   "source": [
    "excelColumn('AB')"
   ]
  },
  {
   "cell_type": "code",
   "execution_count": 11,
   "id": "18dc5f01",
   "metadata": {},
   "outputs": [],
   "source": [
    "#Majority Elements:\n",
    "\n",
    "def majorityElements(nums):\n",
    "    \n",
    "    dict1 = {}\n",
    "    \n",
    "    for n in nums:\n",
    "        dict1[n] = dict1.get(n,0) + 1\n",
    "        \n",
    "        if dict1[n] > len(nums)//2:\n",
    "            return n"
   ]
  },
  {
   "cell_type": "code",
   "execution_count": 12,
   "id": "87a3dba4",
   "metadata": {},
   "outputs": [
    {
     "data": {
      "text/plain": [
       "3"
      ]
     },
     "execution_count": 12,
     "metadata": {},
     "output_type": "execute_result"
    }
   ],
   "source": [
    "majorityElements([3,2,3])"
   ]
  },
  {
   "cell_type": "code",
   "execution_count": 13,
   "id": "870571d8",
   "metadata": {},
   "outputs": [],
   "source": [
    "#Missing elements in the range:\n",
    "\n",
    "def findMissingRanges(nums,lower,upper):\n",
    "        # formats range in the requested format\n",
    "        def formatRange(lower, upper):\n",
    "            if lower == upper:\n",
    "                return str(lower)\n",
    "            return str(lower) + \"->\" + str(upper)\n",
    "\n",
    "        result = []\n",
    "        prev = lower - 1\n",
    "        for i in range(len(nums) + 1):\n",
    "            curr = nums[i] if i < len(nums) else upper + 1\n",
    "            if prev + 1 <= curr - 1:\n",
    "                result.append(formatRange(prev + 1, curr - 1))\n",
    "            prev = curr\n",
    "        return result"
   ]
  },
  {
   "cell_type": "code",
   "execution_count": 14,
   "id": "4839db34",
   "metadata": {},
   "outputs": [
    {
     "data": {
      "text/plain": [
       "['0', '2->4', '6->8', '10']"
      ]
     },
     "execution_count": 14,
     "metadata": {},
     "output_type": "execute_result"
    }
   ],
   "source": [
    "findMissingRanges([1,5,9],0,10)"
   ]
  },
  {
   "cell_type": "code",
   "execution_count": 21,
   "id": "f5e253bb",
   "metadata": {},
   "outputs": [],
   "source": [
    "# Find single non-repeating number in a list:\n",
    "\n",
    "def nonRepeatingNumber(nums):\n",
    "    \n",
    "    dict1 = {}\n",
    "    \n",
    "    for num in nums:\n",
    "        dict1[num] = dict1.get(num,0) + 1\n",
    "    \n",
    "    for key, value in dict1.items():\n",
    "        \n",
    "        if value == 1:\n",
    "            return key"
   ]
  },
  {
   "cell_type": "code",
   "execution_count": 22,
   "id": "785c7d5b",
   "metadata": {},
   "outputs": [
    {
     "data": {
      "text/plain": [
       "4"
      ]
     },
     "execution_count": 22,
     "metadata": {},
     "output_type": "execute_result"
    }
   ],
   "source": [
    "nonRepeatingNumber([4,1,2,1,2])"
   ]
  },
  {
   "cell_type": "code",
   "execution_count": 25,
   "id": "a100cae9",
   "metadata": {},
   "outputs": [],
   "source": [
    "#Best time to buy and sell a stock\n",
    "\n",
    "def Max_Profit(prices):\n",
    "    \n",
    "    min_till_now = prices[0]\n",
    "    \n",
    "    max_profit = 0\n",
    "    \n",
    "    for price in prices[1:]:\n",
    "        \n",
    "        if price < min_till_now:\n",
    "            min_till_now = price\n",
    "            \n",
    "            \n",
    "        else:\n",
    "            diff = price - min_till_now\n",
    "            \n",
    "            if diff > max_profit:\n",
    "                \n",
    "                max_profit = diff\n",
    "                \n",
    "    return max_profit"
   ]
  },
  {
   "cell_type": "code",
   "execution_count": 26,
   "id": "8fa6b75c",
   "metadata": {},
   "outputs": [
    {
     "data": {
      "text/plain": [
       "5"
      ]
     },
     "execution_count": 26,
     "metadata": {},
     "output_type": "execute_result"
    }
   ],
   "source": [
    "Max_Profit([7,1,5,3,6,4])"
   ]
  },
  {
   "cell_type": "code",
   "execution_count": 1,
   "id": "e62ac6dc",
   "metadata": {},
   "outputs": [],
   "source": [
    "#Binary Tree traversal:\n",
    "\n",
    "#DFS pre-order:\n",
    "#root -> left -> right\n",
    "\n",
    "#DFS inorder:\n",
    "#left -> root -> right\n",
    "\n",
    "#DFS postorder:\n",
    "#left -> right -> root\n",
    "\n",
    "def pre_order(root):\n",
    "    return [root.val] + pre_order(root.left) + pre_order(root.right) if root else []\n",
    "\n",
    "def in_order(root):\n",
    "    return in_order(root.left) + [root.val] + in_order(root.right) if root else []\n",
    "\n",
    "def post_order(root):\n",
    "    return post_order(root.left) + post_order(root.right) + [root.val]  if root else []"
   ]
  },
  {
   "cell_type": "code",
   "execution_count": 2,
   "id": "131324ff",
   "metadata": {},
   "outputs": [],
   "source": [
    "#Binary Tree traversal with BFS:\n",
    "#root -> left -> right\n",
    "\n",
    "#Iterations with queue:\n",
    "\n"
   ]
  },
  {
   "cell_type": "code",
   "execution_count": 4,
   "id": "dee61358",
   "metadata": {},
   "outputs": [],
   "source": [
    "#Symmetric Tree:\n",
    "\n",
    "def isSymmetric(root):\n",
    "    if root is None:\n",
    "        return True\n",
    "    else:\n",
    "        return isMirror(root.left, root.right)\n",
    "    \n",
    "    def isMirror(left,right):\n",
    "        if left is None and right is None:\n",
    "            return True\n",
    "        if left is None or right is None:\n",
    "            return False\n",
    "        \n",
    "        if left.val == right.val:\n",
    "            outpair = isMirror(left.left, right.right)\n",
    "            inpair = isMirror(left.right, right.left)\n",
    "            \n",
    "            return outpair and inpair\n",
    "        else:\n",
    "            return False"
   ]
  },
  {
   "cell_type": "code",
   "execution_count": 5,
   "id": "8d255be8",
   "metadata": {},
   "outputs": [],
   "source": [
    "#Maximum depth of a binary tree:\n",
    "\n",
    "def MaxDepth(root):\n",
    "    def dfs(root, depth):\n",
    "        if not root:\n",
    "            return depth\n",
    "        else:\n",
    "            return max(dfs(root.left,depth+1),dfs(root.right, depth+1))\n",
    "        \n",
    "    return dfs(root, 0)"
   ]
  },
  {
   "cell_type": "code",
   "execution_count": 7,
   "id": "45789bfd",
   "metadata": {},
   "outputs": [],
   "source": [
    "#Convert sorted array into Binary tree:\n",
    "\n",
    "def sortedArrayToBST(num):\n",
    "    \n",
    "    total_num = len(num)\n",
    "    \n",
    "    if not total_num:\n",
    "        return None\n",
    "    \n",
    "    mid_node = total_num//2\n",
    "    \n",
    "    return TreeNode(num[mid_node], sortedArrayToBST(num[:mid_node]), sortedArrayToBST(num[mid_node+1:]))"
   ]
  },
  {
   "cell_type": "code",
   "execution_count": 5,
   "id": "d8558de2",
   "metadata": {},
   "outputs": [],
   "source": [
    "class Aa():\n",
    "    def __init__(self):\n",
    "        print(\"Hello World aa!!\")\n",
    "        \n",
    "class Bb(Aa):\n",
    "    def __init__(self):\n",
    "        print(\"Hello World bb!!\")\n",
    "        \n",
    "class Cc(Bb):\n",
    "    pass"
   ]
  },
  {
   "cell_type": "code",
   "execution_count": 6,
   "id": "eac15e6c",
   "metadata": {},
   "outputs": [
    {
     "name": "stdout",
     "output_type": "stream",
     "text": [
      "Hello World bb!!\n"
     ]
    }
   ],
   "source": [
    "my_obj = Bb()"
   ]
  },
  {
   "cell_type": "code",
   "execution_count": 9,
   "id": "ea93ad24",
   "metadata": {
    "scrolled": true
   },
   "outputs": [
    {
     "name": "stdout",
     "output_type": "stream",
     "text": [
      " __  __    _    ____   ____ _   _   _   _    _    ____  _____ \n",
      "|  \\/  |  / \\  |  _ \\ / ___| | | | | | | |  / \\  |  _ \\| ____|\n",
      "| |\\/| | / _ \\ | |_) | |   | |_| | | |_| | / _ \\ | |_) |  _|  \n",
      "| |  | |/ ___ \\|  _ <| |___|  _  | |  _  |/ ___ \\|  _ <| |___ \n",
      "|_|  |_/_/   \\_\\_| \\_\\\\____|_| |_| |_| |_/_/   \\_\\_| \\_\\_____|\n",
      "                                                              \n",
      " _____ ___ _____ \n",
      "|  ___|_ _|_   _|\n",
      "| |_   | |  | |  \n",
      "|  _|  | |  | |  \n",
      "|_|   |___| |_|  \n",
      "                 \n",
      "\n"
     ]
    }
   ],
   "source": [
    "import pyfiglet\n",
    "from termcolor import colored, cprint\n",
    "\n",
    "out = pyfiglet.figlet_format(\"MARCH HARE FIT\")\n",
    "print(out)\n"
   ]
  },
  {
   "cell_type": "code",
   "execution_count": 22,
   "id": "c95037e4",
   "metadata": {},
   "outputs": [],
   "source": [
    "class LinkedListNode:\n",
    "    def __init__(self, value, nextNode=None):\n",
    "        self.value = value\n",
    "        self.nextNode = nextNode\n",
    "    \n",
    "class LinkedList:\n",
    "    def __init__(self, head=None):\n",
    "        self.head = head\n",
    "        \n",
    "    def insert(self, value):\n",
    "        node = LinkedListNode(value)\n",
    "        \n",
    "        if self.head is None:\n",
    "            self.head = node\n",
    "            return\n",
    "        \n",
    "        currentNode = self.head\n",
    "        \n",
    "        while True:\n",
    "            if currentNode.nextNode is None:\n",
    "                currentNode.nextNode = node\n",
    "                break\n",
    "                \n",
    "            currentNode = currentNode.nextNode\n",
    "            \n",
    "    def printLinkedList(self):\n",
    "        currentNode = self.head\n",
    "        \n",
    "        while currentNode is not None:\n",
    "            print(currentNode.value, \"->\", end= \" \" )\n",
    "            currentNode = currentNode.nextNode\n",
    "        \n",
    "        print(\"None\")"
   ]
  },
  {
   "cell_type": "code",
   "execution_count": 23,
   "id": "53910a0e",
   "metadata": {},
   "outputs": [
    {
     "name": "stdout",
     "output_type": "stream",
     "text": [
      "None\n",
      "3 -> None\n",
      "3 -> 44 -> None\n"
     ]
    }
   ],
   "source": [
    "ll = LinkedList()\n",
    "ll.printLinkedList()\n",
    "ll.insert(\"3\")\n",
    "ll.printLinkedList()\n",
    "ll.insert(\"44\")\n",
    "ll.printLinkedList()"
   ]
  },
  {
   "cell_type": "code",
   "execution_count": 34,
   "id": "e109c4bd",
   "metadata": {},
   "outputs": [],
   "source": [
    "class A:\n",
    "    def __init__(self,profession=\"Engineer\"):\n",
    "        self.profession = profession\n",
    "        print(self.profession)\n",
    "    \n",
    "    def print_name(self):\n",
    "        print(self.profession)\n",
    "        \n",
    "class B(A):\n",
    "    def __init__(self):\n",
    "        print(\"Stephen\")\n",
    "        super().__init__(\"Engineer\")"
   ]
  },
  {
   "cell_type": "code",
   "execution_count": 35,
   "id": "e5edd624",
   "metadata": {},
   "outputs": [
    {
     "name": "stdout",
     "output_type": "stream",
     "text": [
      "Stephen\n",
      "Engineer\n",
      "<__main__.B object at 0x10c026f10>\n"
     ]
    }
   ],
   "source": [
    "value = B() \n",
    "print(value)"
   ]
  },
  {
   "cell_type": "code",
   "execution_count": null,
   "id": "9f30edce",
   "metadata": {},
   "outputs": [],
   "source": []
  }
 ],
 "metadata": {
  "kernelspec": {
   "display_name": "Python 3 (ipykernel)",
   "language": "python",
   "name": "python3"
  },
  "language_info": {
   "codemirror_mode": {
    "name": "ipython",
    "version": 3
   },
   "file_extension": ".py",
   "mimetype": "text/x-python",
   "name": "python",
   "nbconvert_exporter": "python",
   "pygments_lexer": "ipython3",
   "version": "3.9.16"
  }
 },
 "nbformat": 4,
 "nbformat_minor": 5
}
